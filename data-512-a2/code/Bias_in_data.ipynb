{
 "cells": [
  {
   "cell_type": "markdown",
   "metadata": {},
   "source": [
    "# A2 Bias in Data: Exploratory Analysis on Wikipedia Talk Page"
   ]
  },
  {
   "cell_type": "markdown",
   "metadata": {},
   "source": [
    "The goal of this assignment is to identify what, if any, sources of bias may exist in these datasets, and to develop testable hypotheses about how these biases might impact the behavior of machine learning models trained on the data, when those models are used for research purposes or to power data-driven applications. \n",
    "\n",
    "The corpus we will use is called the Wikipedia Talk corpus, and it consists of three datasets. Each dataset contains thousands of online discussion posts made by Wikipedia editors who were discussing how to write and edit Wikipedia articles. Crowdworkers labelled these posts for three kinds of hostile speech: “toxicity”, “aggression”, and “personal attacks”. Many posts in each dataset were labelled by multiple crowdworkers for each type of hostile speech, to improve accuracy."
   ]
  },
  {
   "cell_type": "markdown",
   "metadata": {},
   "source": [
    "### For the following analysis, I have taken the Personal Attack and Toxicity dataset as reference materials.\n",
    "\n",
    "The dataset is accessed from this <a href ='https://figshare.com/projects/Wikipedia_Talk/16731'> Figshare website</a> and the detailed documentation is provided <a href='https://meta.wikimedia.org/wiki/Research:Detox/Data_Release#Toxicity'> here </a>.\n",
    "\n",
    "Each of the two datasets contains following 3 files:\n",
    "\n",
    "- <b>{attack/toxicity}_annotated_comments.tsv:</b> the raw revisions and derived comments that were labelled by crowdworkers.\n",
    "- <b>{attack/toxicity}_annotations.tsv:</b> the annotations labeled by several crowdworkers for each comment in {attack/aggression/toxicity}_annotated_comments.tsv.\n",
    "- <b>{attack/toxicity}_worker_demographics.tsv:</b> To help understand the generality of the crowd-worker labels, we conducted a survey to get some basic anonymized demographic information about on the crowdworkers who provided the labels.\n",
    "\n",
    "\n"
   ]
  },
  {
   "cell_type": "markdown",
   "metadata": {},
   "source": [
    "Importing all the libraries necesary for our analysis"
   ]
  },
  {
   "cell_type": "code",
   "execution_count": 2,
   "metadata": {},
   "outputs": [],
   "source": [
    "import json\n",
    "import requests\n",
    "import pandas as pd\n",
    "import numpy as np\n",
    "import datetime as dt\n",
    "import matplotlib.pyplot as plt\n",
    "import seaborn as sns\n",
    "from IPython.core.interactiveshell import InteractiveShell\n",
    "InteractiveShell.ast_node_interactivity = \"all\""
   ]
  },
  {
   "cell_type": "markdown",
   "metadata": {},
   "source": [
    "## Step 0: Gathering the data\n",
    "Loading both attack and toxicity datasets. Used <b> pandas / pd.read_csv </b> function to read the .tsv files"
   ]
  },
  {
   "cell_type": "code",
   "execution_count": 5,
   "metadata": {},
   "outputs": [],
   "source": [
    "attack_comments = pd.read_csv('../data/attack_annotated_comments.tsv',sep='\\t')\n",
    "toxic_comments = pd.read_csv('../data/toxicity_annotated_comments.tsv', sep='\\t')\n",
    "\n",
    "attack_annot = pd.read_csv('../data/attack_annotations.tsv',sep='\\t')\n",
    "toxic_annot = pd.read_csv('../data/toxicity_annotations.tsv',sep='\\t')\n",
    "\n",
    "attack_workdem = pd.read_csv('../data/attack_worker_demographics.tsv',sep='\\t')\n",
    "toxic_workdem = pd.read_csv('../data/toxicity_worker_demographics.tsv',sep='\\t')"
   ]
  },
  {
   "cell_type": "markdown",
   "metadata": {},
   "source": [
    "Looking into the personal_attack dataset"
   ]
  },
  {
   "cell_type": "code",
   "execution_count": 6,
   "metadata": {},
   "outputs": [
    {
     "data": {
      "text/html": [
       "<div>\n",
       "<style scoped>\n",
       "    .dataframe tbody tr th:only-of-type {\n",
       "        vertical-align: middle;\n",
       "    }\n",
       "\n",
       "    .dataframe tbody tr th {\n",
       "        vertical-align: top;\n",
       "    }\n",
       "\n",
       "    .dataframe thead th {\n",
       "        text-align: right;\n",
       "    }\n",
       "</style>\n",
       "<table border=\"1\" class=\"dataframe\">\n",
       "  <thead>\n",
       "    <tr style=\"text-align: right;\">\n",
       "      <th></th>\n",
       "      <th>rev_id</th>\n",
       "      <th>comment</th>\n",
       "      <th>year</th>\n",
       "      <th>logged_in</th>\n",
       "      <th>ns</th>\n",
       "      <th>sample</th>\n",
       "      <th>split</th>\n",
       "    </tr>\n",
       "  </thead>\n",
       "  <tbody>\n",
       "    <tr>\n",
       "      <th>0</th>\n",
       "      <td>37675</td>\n",
       "      <td>`-NEWLINE_TOKENThis is not ``creative``.  Thos...</td>\n",
       "      <td>2002</td>\n",
       "      <td>False</td>\n",
       "      <td>article</td>\n",
       "      <td>random</td>\n",
       "      <td>train</td>\n",
       "    </tr>\n",
       "    <tr>\n",
       "      <th>1</th>\n",
       "      <td>44816</td>\n",
       "      <td>`NEWLINE_TOKENNEWLINE_TOKEN:: the term ``stand...</td>\n",
       "      <td>2002</td>\n",
       "      <td>False</td>\n",
       "      <td>article</td>\n",
       "      <td>random</td>\n",
       "      <td>train</td>\n",
       "    </tr>\n",
       "  </tbody>\n",
       "</table>\n",
       "</div>"
      ],
      "text/plain": [
       "   rev_id                                            comment  year  logged_in  \\\n",
       "0   37675  `-NEWLINE_TOKENThis is not ``creative``.  Thos...  2002      False   \n",
       "1   44816  `NEWLINE_TOKENNEWLINE_TOKEN:: the term ``stand...  2002      False   \n",
       "\n",
       "        ns  sample  split  \n",
       "0  article  random  train  \n",
       "1  article  random  train  "
      ]
     },
     "execution_count": 6,
     "metadata": {},
     "output_type": "execute_result"
    },
    {
     "data": {
      "text/html": [
       "<div>\n",
       "<style scoped>\n",
       "    .dataframe tbody tr th:only-of-type {\n",
       "        vertical-align: middle;\n",
       "    }\n",
       "\n",
       "    .dataframe tbody tr th {\n",
       "        vertical-align: top;\n",
       "    }\n",
       "\n",
       "    .dataframe thead th {\n",
       "        text-align: right;\n",
       "    }\n",
       "</style>\n",
       "<table border=\"1\" class=\"dataframe\">\n",
       "  <thead>\n",
       "    <tr style=\"text-align: right;\">\n",
       "      <th></th>\n",
       "      <th>rev_id</th>\n",
       "      <th>worker_id</th>\n",
       "      <th>quoting_attack</th>\n",
       "      <th>recipient_attack</th>\n",
       "      <th>third_party_attack</th>\n",
       "      <th>other_attack</th>\n",
       "      <th>attack</th>\n",
       "    </tr>\n",
       "  </thead>\n",
       "  <tbody>\n",
       "    <tr>\n",
       "      <th>0</th>\n",
       "      <td>37675</td>\n",
       "      <td>1362</td>\n",
       "      <td>0.0</td>\n",
       "      <td>0.0</td>\n",
       "      <td>0.0</td>\n",
       "      <td>0.0</td>\n",
       "      <td>0.0</td>\n",
       "    </tr>\n",
       "    <tr>\n",
       "      <th>1</th>\n",
       "      <td>37675</td>\n",
       "      <td>2408</td>\n",
       "      <td>0.0</td>\n",
       "      <td>0.0</td>\n",
       "      <td>0.0</td>\n",
       "      <td>0.0</td>\n",
       "      <td>0.0</td>\n",
       "    </tr>\n",
       "  </tbody>\n",
       "</table>\n",
       "</div>"
      ],
      "text/plain": [
       "   rev_id  worker_id  quoting_attack  recipient_attack  third_party_attack  \\\n",
       "0   37675       1362             0.0               0.0                 0.0   \n",
       "1   37675       2408             0.0               0.0                 0.0   \n",
       "\n",
       "   other_attack  attack  \n",
       "0           0.0     0.0  \n",
       "1           0.0     0.0  "
      ]
     },
     "execution_count": 6,
     "metadata": {},
     "output_type": "execute_result"
    },
    {
     "data": {
      "text/html": [
       "<div>\n",
       "<style scoped>\n",
       "    .dataframe tbody tr th:only-of-type {\n",
       "        vertical-align: middle;\n",
       "    }\n",
       "\n",
       "    .dataframe tbody tr th {\n",
       "        vertical-align: top;\n",
       "    }\n",
       "\n",
       "    .dataframe thead th {\n",
       "        text-align: right;\n",
       "    }\n",
       "</style>\n",
       "<table border=\"1\" class=\"dataframe\">\n",
       "  <thead>\n",
       "    <tr style=\"text-align: right;\">\n",
       "      <th></th>\n",
       "      <th>worker_id</th>\n",
       "      <th>gender</th>\n",
       "      <th>english_first_language</th>\n",
       "      <th>age_group</th>\n",
       "      <th>education</th>\n",
       "    </tr>\n",
       "  </thead>\n",
       "  <tbody>\n",
       "    <tr>\n",
       "      <th>0</th>\n",
       "      <td>833</td>\n",
       "      <td>female</td>\n",
       "      <td>0</td>\n",
       "      <td>45-60</td>\n",
       "      <td>bachelors</td>\n",
       "    </tr>\n",
       "    <tr>\n",
       "      <th>1</th>\n",
       "      <td>1072</td>\n",
       "      <td>male</td>\n",
       "      <td>0</td>\n",
       "      <td>30-45</td>\n",
       "      <td>bachelors</td>\n",
       "    </tr>\n",
       "  </tbody>\n",
       "</table>\n",
       "</div>"
      ],
      "text/plain": [
       "   worker_id  gender  english_first_language age_group  education\n",
       "0        833  female                       0     45-60  bachelors\n",
       "1       1072    male                       0     30-45  bachelors"
      ]
     },
     "execution_count": 6,
     "metadata": {},
     "output_type": "execute_result"
    }
   ],
   "source": [
    "attack_comments.head(2)\n",
    "attack_annot.head(2)\n",
    "attack_workdem.head(2)"
   ]
  },
  {
   "cell_type": "markdown",
   "metadata": {},
   "source": [
    "Looking into the to toxicity dataset"
   ]
  },
  {
   "cell_type": "code",
   "execution_count": 7,
   "metadata": {},
   "outputs": [
    {
     "data": {
      "text/html": [
       "<div>\n",
       "<style scoped>\n",
       "    .dataframe tbody tr th:only-of-type {\n",
       "        vertical-align: middle;\n",
       "    }\n",
       "\n",
       "    .dataframe tbody tr th {\n",
       "        vertical-align: top;\n",
       "    }\n",
       "\n",
       "    .dataframe thead th {\n",
       "        text-align: right;\n",
       "    }\n",
       "</style>\n",
       "<table border=\"1\" class=\"dataframe\">\n",
       "  <thead>\n",
       "    <tr style=\"text-align: right;\">\n",
       "      <th></th>\n",
       "      <th>rev_id</th>\n",
       "      <th>comment</th>\n",
       "      <th>year</th>\n",
       "      <th>logged_in</th>\n",
       "      <th>ns</th>\n",
       "      <th>sample</th>\n",
       "      <th>split</th>\n",
       "    </tr>\n",
       "  </thead>\n",
       "  <tbody>\n",
       "    <tr>\n",
       "      <th>0</th>\n",
       "      <td>2232.0</td>\n",
       "      <td>This:NEWLINE_TOKEN:One can make an analogy in ...</td>\n",
       "      <td>2002</td>\n",
       "      <td>True</td>\n",
       "      <td>article</td>\n",
       "      <td>random</td>\n",
       "      <td>train</td>\n",
       "    </tr>\n",
       "    <tr>\n",
       "      <th>1</th>\n",
       "      <td>4216.0</td>\n",
       "      <td>`NEWLINE_TOKENNEWLINE_TOKEN:Clarification for ...</td>\n",
       "      <td>2002</td>\n",
       "      <td>True</td>\n",
       "      <td>user</td>\n",
       "      <td>random</td>\n",
       "      <td>train</td>\n",
       "    </tr>\n",
       "  </tbody>\n",
       "</table>\n",
       "</div>"
      ],
      "text/plain": [
       "   rev_id                                            comment  year  logged_in  \\\n",
       "0  2232.0  This:NEWLINE_TOKEN:One can make an analogy in ...  2002       True   \n",
       "1  4216.0  `NEWLINE_TOKENNEWLINE_TOKEN:Clarification for ...  2002       True   \n",
       "\n",
       "        ns  sample  split  \n",
       "0  article  random  train  \n",
       "1     user  random  train  "
      ]
     },
     "execution_count": 7,
     "metadata": {},
     "output_type": "execute_result"
    },
    {
     "data": {
      "text/html": [
       "<div>\n",
       "<style scoped>\n",
       "    .dataframe tbody tr th:only-of-type {\n",
       "        vertical-align: middle;\n",
       "    }\n",
       "\n",
       "    .dataframe tbody tr th {\n",
       "        vertical-align: top;\n",
       "    }\n",
       "\n",
       "    .dataframe thead th {\n",
       "        text-align: right;\n",
       "    }\n",
       "</style>\n",
       "<table border=\"1\" class=\"dataframe\">\n",
       "  <thead>\n",
       "    <tr style=\"text-align: right;\">\n",
       "      <th></th>\n",
       "      <th>rev_id</th>\n",
       "      <th>worker_id</th>\n",
       "      <th>toxicity</th>\n",
       "      <th>toxicity_score</th>\n",
       "    </tr>\n",
       "  </thead>\n",
       "  <tbody>\n",
       "    <tr>\n",
       "      <th>0</th>\n",
       "      <td>2232.0</td>\n",
       "      <td>723</td>\n",
       "      <td>0</td>\n",
       "      <td>0.0</td>\n",
       "    </tr>\n",
       "    <tr>\n",
       "      <th>1</th>\n",
       "      <td>2232.0</td>\n",
       "      <td>4000</td>\n",
       "      <td>0</td>\n",
       "      <td>0.0</td>\n",
       "    </tr>\n",
       "  </tbody>\n",
       "</table>\n",
       "</div>"
      ],
      "text/plain": [
       "   rev_id  worker_id  toxicity  toxicity_score\n",
       "0  2232.0        723         0             0.0\n",
       "1  2232.0       4000         0             0.0"
      ]
     },
     "execution_count": 7,
     "metadata": {},
     "output_type": "execute_result"
    },
    {
     "data": {
      "text/html": [
       "<div>\n",
       "<style scoped>\n",
       "    .dataframe tbody tr th:only-of-type {\n",
       "        vertical-align: middle;\n",
       "    }\n",
       "\n",
       "    .dataframe tbody tr th {\n",
       "        vertical-align: top;\n",
       "    }\n",
       "\n",
       "    .dataframe thead th {\n",
       "        text-align: right;\n",
       "    }\n",
       "</style>\n",
       "<table border=\"1\" class=\"dataframe\">\n",
       "  <thead>\n",
       "    <tr style=\"text-align: right;\">\n",
       "      <th></th>\n",
       "      <th>worker_id</th>\n",
       "      <th>gender</th>\n",
       "      <th>english_first_language</th>\n",
       "      <th>age_group</th>\n",
       "      <th>education</th>\n",
       "    </tr>\n",
       "  </thead>\n",
       "  <tbody>\n",
       "    <tr>\n",
       "      <th>0</th>\n",
       "      <td>85</td>\n",
       "      <td>female</td>\n",
       "      <td>0</td>\n",
       "      <td>18-30</td>\n",
       "      <td>bachelors</td>\n",
       "    </tr>\n",
       "    <tr>\n",
       "      <th>1</th>\n",
       "      <td>1617</td>\n",
       "      <td>female</td>\n",
       "      <td>0</td>\n",
       "      <td>45-60</td>\n",
       "      <td>bachelors</td>\n",
       "    </tr>\n",
       "  </tbody>\n",
       "</table>\n",
       "</div>"
      ],
      "text/plain": [
       "   worker_id  gender  english_first_language age_group  education\n",
       "0         85  female                       0     18-30  bachelors\n",
       "1       1617  female                       0     45-60  bachelors"
      ]
     },
     "execution_count": 7,
     "metadata": {},
     "output_type": "execute_result"
    }
   ],
   "source": [
    "toxic_comments.head(2)\n",
    "toxic_annot.head(2)\n",
    "toxic_workdem.head(2)"
   ]
  },
  {
   "cell_type": "markdown",
   "metadata": {},
   "source": [
    "### Step 1: Select and Perform analysis\n",
    "\n",
    "For our analysis, we have selected to perform exploratory data analysis and bias-check on the attack and toxicity datasets. This process is divided into mutliple sub-sections:\n",
    "\n",
    "- <b>Step 1.1:</b> Data Cleaning & Preparation\n",
    "- <b>Step 1.2:</b> Exploratory Data Analysis\n",
    "- <b>Step 1.3:</b> Research & Analysis 1: Analyze the demographic information about the Crowdflower workers\n",
    "- <b>Step 1.4:</b> Research & Analysis 2: Explore relationships between worker demographics and labeling behavior"
   ]
  },
  {
   "cell_type": "markdown",
   "metadata": {},
   "source": [
    "### Step 1.1: Data Cleaning & Preparation\n",
    "\n",
    "We will now look into the data for na or missing values and also remove any unnecessary data points from comment"
   ]
  },
  {
   "cell_type": "code",
   "execution_count": 8,
   "metadata": {},
   "outputs": [
    {
     "data": {
      "text/html": [
       "<div>\n",
       "<style scoped>\n",
       "    .dataframe tbody tr th:only-of-type {\n",
       "        vertical-align: middle;\n",
       "    }\n",
       "\n",
       "    .dataframe tbody tr th {\n",
       "        vertical-align: top;\n",
       "    }\n",
       "\n",
       "    .dataframe thead th {\n",
       "        text-align: right;\n",
       "    }\n",
       "</style>\n",
       "<table border=\"1\" class=\"dataframe\">\n",
       "  <thead>\n",
       "    <tr style=\"text-align: right;\">\n",
       "      <th></th>\n",
       "      <th>rev_id</th>\n",
       "      <th>comment</th>\n",
       "      <th>year</th>\n",
       "      <th>logged_in</th>\n",
       "      <th>ns</th>\n",
       "      <th>sample</th>\n",
       "      <th>split</th>\n",
       "    </tr>\n",
       "  </thead>\n",
       "  <tbody>\n",
       "    <tr>\n",
       "      <th>0</th>\n",
       "      <td>37675</td>\n",
       "      <td>`-NEWLINE_TOKENThis is not ``creative``.  Thos...</td>\n",
       "      <td>2002</td>\n",
       "      <td>False</td>\n",
       "      <td>article</td>\n",
       "      <td>random</td>\n",
       "      <td>train</td>\n",
       "    </tr>\n",
       "    <tr>\n",
       "      <th>1</th>\n",
       "      <td>44816</td>\n",
       "      <td>`NEWLINE_TOKENNEWLINE_TOKEN:: the term ``stand...</td>\n",
       "      <td>2002</td>\n",
       "      <td>False</td>\n",
       "      <td>article</td>\n",
       "      <td>random</td>\n",
       "      <td>train</td>\n",
       "    </tr>\n",
       "  </tbody>\n",
       "</table>\n",
       "</div>"
      ],
      "text/plain": [
       "   rev_id                                            comment  year  logged_in  \\\n",
       "0   37675  `-NEWLINE_TOKENThis is not ``creative``.  Thos...  2002      False   \n",
       "1   44816  `NEWLINE_TOKENNEWLINE_TOKEN:: the term ``stand...  2002      False   \n",
       "\n",
       "        ns  sample  split  \n",
       "0  article  random  train  \n",
       "1  article  random  train  "
      ]
     },
     "execution_count": 8,
     "metadata": {},
     "output_type": "execute_result"
    },
    {
     "data": {
      "text/plain": [
       "0    `-NEWLINE_TOKENThis is not ``creative``.  Thos...\n",
       "1    `NEWLINE_TOKENNEWLINE_TOKEN:: the term ``stand...\n",
       "2    NEWLINE_TOKENNEWLINE_TOKENTrue or false, the s...\n",
       "3     Next, maybe you could work on being less cond...\n",
       "4                 This page will need disambiguation. \n",
       "5    NEWLINE_TOKEN-NEWLINE_TOKENNEWLINE_TOKENImport...\n",
       "6    I removed the following:NEWLINE_TOKENNEWLINE_T...\n",
       "7    `:If you ever claimed in a Judaic studies prog...\n",
       "8    NEWLINE_TOKENNEWLINE_TOKENNEWLINE_TOKENMy apol...\n",
       "9    `Someone wrote:NEWLINE_TOKENMore recognizable,...\n",
       "Name: comment, dtype: object"
      ]
     },
     "execution_count": 8,
     "metadata": {},
     "output_type": "execute_result"
    },
    {
     "data": {
      "text/plain": [
       "0    This:NEWLINE_TOKEN:One can make an analogy in ...\n",
       "1    `NEWLINE_TOKENNEWLINE_TOKEN:Clarification for ...\n",
       "2                            Elected or Electoral? JHK\n",
       "3    `This is such a fun entry.   DevotchkaNEWLINE_...\n",
       "4    Please relate the ozone hole to increases in c...\n",
       "5    `:In an interpreted language your source code ...\n",
       "6    `NEWLINE_TOKENNEWLINE_TOKENNEWLINE_TOKENI fixe...\n",
       "7    `If they are ``indisputable`` then why does th...\n",
       "8    `-NEWLINE_TOKENThis is not ``creative``.  Thos...\n",
       "9    `NEWLINE_TOKENNEWLINE_TOKENNEWLINE_TOKENThe co...\n",
       "Name: comment, dtype: object"
      ]
     },
     "execution_count": 8,
     "metadata": {},
     "output_type": "execute_result"
    },
    {
     "name": "stdout",
     "output_type": "stream",
     "text": [
      "Thus we see the comment has non-informative toeken about new line and tabline. Thus we will remove those\n"
     ]
    }
   ],
   "source": [
    "## Looking at comments dataset\n",
    "attack_comments.head(2)\n",
    "attack_comments.comment.head(10)\n",
    "toxic_comments.comment.head(10)\n",
    "print('Thus we see the comment has non-informative toeken about new line and tabline. Thus we will remove those')"
   ]
  },
  {
   "cell_type": "code",
   "execution_count": 9,
   "metadata": {},
   "outputs": [],
   "source": [
    "attack_comments['comments'] = attack_comments['comment'].apply(lambda x: x.replace(\"NEWLINE_TOKEN\", \" \"))\n",
    "attack_comments['comments'] = attack_comments['comment'].apply(lambda x: x.replace(\"TAB_TOKEN\", \" \"))\n",
    "\n",
    "toxic_comments['comments'] = toxic_comments['comment'].apply(lambda x: x.replace(\"NEWLINE_TOKEN\", \" \"))\n",
    "toxic_comments['comments'] = toxic_comments['comment'].apply(lambda x: x.replace(\"TAB_TOKEN\", \" \"))"
   ]
  },
  {
   "cell_type": "code",
   "execution_count": 10,
   "metadata": {},
   "outputs": [
    {
     "name": "stdout",
     "output_type": "stream",
     "text": [
      "----------Checking Missing Values in Attack Dataset------------\n"
     ]
    },
    {
     "data": {
      "text/plain": [
       "rev_id                0\n",
       "worker_id             0\n",
       "quoting_attack        0\n",
       "recipient_attack      0\n",
       "third_party_attack    0\n",
       "other_attack          0\n",
       "attack                0\n",
       "dtype: int64"
      ]
     },
     "execution_count": 10,
     "metadata": {},
     "output_type": "execute_result"
    },
    {
     "data": {
      "text/plain": [
       "rev_id       0\n",
       "comment      0\n",
       "year         0\n",
       "logged_in    0\n",
       "ns           0\n",
       "sample       0\n",
       "split        0\n",
       "comments     0\n",
       "dtype: int64"
      ]
     },
     "execution_count": 10,
     "metadata": {},
     "output_type": "execute_result"
    },
    {
     "data": {
      "text/plain": [
       "worker_id                  0\n",
       "gender                     0\n",
       "english_first_language     0\n",
       "age_group                 35\n",
       "education                  0\n",
       "dtype: int64"
      ]
     },
     "execution_count": 10,
     "metadata": {},
     "output_type": "execute_result"
    }
   ],
   "source": [
    "## Checking for missing values by each columns in all the 6 data files in following order\n",
    "print(\"----------Checking Missing Values in Attack Dataset------------\")\n",
    "attack_annot.isnull().sum()\n",
    "attack_comments.isnull().sum()\n",
    "attack_workdem.isnull().sum()"
   ]
  },
  {
   "cell_type": "markdown",
   "metadata": {},
   "source": [
    "<b> Thus, we see that within attack dataset, worker_demographic table has 35 missing value in age_group column.</b>"
   ]
  },
  {
   "cell_type": "code",
   "execution_count": 11,
   "metadata": {},
   "outputs": [
    {
     "name": "stdout",
     "output_type": "stream",
     "text": [
      "----------Checking Missing Values in Toxicity Dataset------------\n"
     ]
    },
    {
     "data": {
      "text/plain": [
       "rev_id            0\n",
       "worker_id         0\n",
       "toxicity          0\n",
       "toxicity_score    0\n",
       "dtype: int64"
      ]
     },
     "execution_count": 11,
     "metadata": {},
     "output_type": "execute_result"
    },
    {
     "data": {
      "text/plain": [
       "rev_id       0\n",
       "comment      0\n",
       "year         0\n",
       "logged_in    0\n",
       "ns           0\n",
       "sample       0\n",
       "split        0\n",
       "comments     0\n",
       "dtype: int64"
      ]
     },
     "execution_count": 11,
     "metadata": {},
     "output_type": "execute_result"
    },
    {
     "data": {
      "text/plain": [
       "worker_id                  0\n",
       "gender                     0\n",
       "english_first_language     0\n",
       "age_group                 77\n",
       "education                  0\n",
       "dtype: int64"
      ]
     },
     "execution_count": 11,
     "metadata": {},
     "output_type": "execute_result"
    }
   ],
   "source": [
    "## Checking for missing values by each columns in all the 6 data files in following order\n",
    "print(\"----------Checking Missing Values in Toxicity Dataset------------\")\n",
    "toxic_annot.isnull().sum()\n",
    "toxic_comments.isnull().sum()\n",
    "toxic_workdem.isnull().sum()"
   ]
  },
  {
   "cell_type": "markdown",
   "metadata": {},
   "source": [
    "<b> Similar to Attack dataset, even in Toxicity dataset the worker demographic dataset has 77 missing values for age group </b>"
   ]
  },
  {
   "cell_type": "markdown",
   "metadata": {},
   "source": [
    "We are replacing the NA values as Other or Unknown"
   ]
  },
  {
   "cell_type": "code",
   "execution_count": 12,
   "metadata": {},
   "outputs": [
    {
     "data": {
      "text/plain": [
       "array(['18-30', '45-60', 'None', '30-45', 'Under 18', 'Over 60'],\n",
       "      dtype=object)"
      ]
     },
     "execution_count": 12,
     "metadata": {},
     "output_type": "execute_result"
    }
   ],
   "source": [
    "attack_workdem['age_group'] = attack_workdem['age_group'].fillna('None')\n",
    "toxic_workdem['age_group'] = toxic_workdem['age_group'].fillna('None')\n",
    "toxic_workdem.age_group.unique()"
   ]
  },
  {
   "cell_type": "markdown",
   "metadata": {},
   "source": [
    "### Step 1.2 Exploratory Data Analysis\n",
    "#### For Attack Dataset"
   ]
  },
  {
   "cell_type": "code",
   "execution_count": 13,
   "metadata": {},
   "outputs": [
    {
     "name": "stdout",
     "output_type": "stream",
     "text": [
      "For the attack dataset, we have following statistics:\n",
      "Total unique comments annotated: 115864\n",
      "Total Crowdworker who annotated: 4053\n",
      "Total Crowdworker whose demographic details are present: 2190\n"
     ]
    }
   ],
   "source": [
    "print(\"For the attack dataset, we have following statistics:\")\n",
    "print(\"Total unique comments annotated:\", attack_comments.rev_id.nunique())\n",
    "print(\"Total Crowdworker who annotated:\", attack_annot.worker_id.nunique())\n",
    "print(\"Total Crowdworker whose demographic details are present:\",attack_workdem.worker_id.nunique())"
   ]
  },
  {
   "cell_type": "markdown",
   "metadata": {},
   "source": [
    "### Important Insight:\n",
    "#### From the above figure, we see that of around 4k crowdworkers who annotated the dataset, for only 50% we have the demographics dataset. We need to keep this very important observation in mind when judging the relation of annotations labels with the demographics of workers since the data represents only 50% population. In order to not introduce any bias in our dataset, we will keep the data by other crowdworker but put it under the 'Unknow' label and analyze the results as whole."
   ]
  },
  {
   "cell_type": "markdown",
   "metadata": {},
   "source": [
    "#### For Toxicity Dataset"
   ]
  },
  {
   "cell_type": "code",
   "execution_count": 14,
   "metadata": {},
   "outputs": [
    {
     "name": "stdout",
     "output_type": "stream",
     "text": [
      "For the toxicity dataset, we have following statistics:\n",
      "Total unique comments annotated: 159686\n",
      "Total Crowdworker who annotated: 4301\n",
      "Total Crowdworker whose demographic details are present: 3591\n"
     ]
    }
   ],
   "source": [
    "print(\"For the toxicity dataset, we have following statistics:\")\n",
    "print(\"Total unique comments annotated:\", toxic_comments.rev_id.nunique())\n",
    "print(\"Total Crowdworker who annotated:\", toxic_annot.worker_id.nunique())\n",
    "print(\"Total Crowdworker whose demographic details are present:\",toxic_workdem.worker_id.nunique())"
   ]
  },
  {
   "cell_type": "markdown",
   "metadata": {},
   "source": [
    "### Important Insight:\n",
    "#### Similar to Attack dataset, we see that of around 4.3k crowdworkers who annotated the dataset, demographic data is absent for ~20% of workers. We need to keep this very important observation in mind when judging the relation of annotations labels with the demographics of workers since the data represents only 80% population. In order to not introduce any bias in our results, we will keep the data by other crowdworker but put it under the 'Unknow' label and analyze the results as whole.\n",
    "\n",
    "Now preparing a master dataset for both attack dataset and toxicity dataset"
   ]
  },
  {
   "cell_type": "code",
   "execution_count": 15,
   "metadata": {},
   "outputs": [
    {
     "name": "stdout",
     "output_type": "stream",
     "text": [
      "Shape before Join: (1365217, 7) (115864, 8)\n",
      "Shape after join: (1365217, 18)\n",
      "Shape before Join: (1598289, 4) (159686, 8)\n",
      "Shape after join: (1598289, 15)\n"
     ]
    }
   ],
   "source": [
    "## Master dataframe for Attack Dataset\n",
    "print(\"Shape before Join:\",attack_annot.shape,attack_comments.shape)\n",
    "attack_1 = pd.merge(attack_annot,attack_comments, on=\"rev_id\", how='inner')\n",
    "attack_df = pd.merge(attack_1,attack_workdem,on=\"worker_id\", how='left')\n",
    "print(\"Shape after join:\",attack_df.shape)\n",
    "\n",
    "## Master dataframe for Toxicity Dataset\n",
    "print(\"Shape before Join:\",toxic_annot.shape,toxic_comments.shape)\n",
    "toxic_1 = pd.merge(toxic_annot,toxic_comments, on=\"rev_id\", how='inner')\n",
    "toxic_df = pd.merge(toxic_1,toxic_workdem,on=\"worker_id\", how='left')\n",
    "print(\"Shape after join:\",toxic_df.shape)"
   ]
  },
  {
   "cell_type": "code",
   "execution_count": 16,
   "metadata": {},
   "outputs": [
    {
     "data": {
      "text/html": [
       "<div>\n",
       "<style scoped>\n",
       "    .dataframe tbody tr th:only-of-type {\n",
       "        vertical-align: middle;\n",
       "    }\n",
       "\n",
       "    .dataframe tbody tr th {\n",
       "        vertical-align: top;\n",
       "    }\n",
       "\n",
       "    .dataframe thead th {\n",
       "        text-align: right;\n",
       "    }\n",
       "</style>\n",
       "<table border=\"1\" class=\"dataframe\">\n",
       "  <thead>\n",
       "    <tr style=\"text-align: right;\">\n",
       "      <th></th>\n",
       "      <th>rev_id</th>\n",
       "      <th>worker_id</th>\n",
       "      <th>quoting_attack</th>\n",
       "      <th>recipient_attack</th>\n",
       "      <th>third_party_attack</th>\n",
       "      <th>other_attack</th>\n",
       "      <th>attack</th>\n",
       "      <th>comment</th>\n",
       "      <th>year</th>\n",
       "      <th>logged_in</th>\n",
       "      <th>ns</th>\n",
       "      <th>sample</th>\n",
       "      <th>split</th>\n",
       "      <th>comments</th>\n",
       "      <th>gender</th>\n",
       "      <th>english_first_language</th>\n",
       "      <th>age_group</th>\n",
       "      <th>education</th>\n",
       "    </tr>\n",
       "  </thead>\n",
       "  <tbody>\n",
       "    <tr>\n",
       "      <th>0</th>\n",
       "      <td>37675</td>\n",
       "      <td>1362</td>\n",
       "      <td>0.0</td>\n",
       "      <td>0.0</td>\n",
       "      <td>0.0</td>\n",
       "      <td>0.0</td>\n",
       "      <td>0.0</td>\n",
       "      <td>`-NEWLINE_TOKENThis is not ``creative``.  Thos...</td>\n",
       "      <td>2002</td>\n",
       "      <td>False</td>\n",
       "      <td>article</td>\n",
       "      <td>random</td>\n",
       "      <td>train</td>\n",
       "      <td>`-NEWLINE_TOKENThis is not ``creative``.  Thos...</td>\n",
       "      <td>male</td>\n",
       "      <td>0.0</td>\n",
       "      <td>18-30</td>\n",
       "      <td>masters</td>\n",
       "    </tr>\n",
       "    <tr>\n",
       "      <th>1</th>\n",
       "      <td>37675</td>\n",
       "      <td>2408</td>\n",
       "      <td>0.0</td>\n",
       "      <td>0.0</td>\n",
       "      <td>0.0</td>\n",
       "      <td>0.0</td>\n",
       "      <td>0.0</td>\n",
       "      <td>`-NEWLINE_TOKENThis is not ``creative``.  Thos...</td>\n",
       "      <td>2002</td>\n",
       "      <td>False</td>\n",
       "      <td>article</td>\n",
       "      <td>random</td>\n",
       "      <td>train</td>\n",
       "      <td>`-NEWLINE_TOKENThis is not ``creative``.  Thos...</td>\n",
       "      <td>male</td>\n",
       "      <td>1.0</td>\n",
       "      <td>30-45</td>\n",
       "      <td>hs</td>\n",
       "    </tr>\n",
       "  </tbody>\n",
       "</table>\n",
       "</div>"
      ],
      "text/plain": [
       "   rev_id  worker_id  quoting_attack  recipient_attack  third_party_attack  \\\n",
       "0   37675       1362             0.0               0.0                 0.0   \n",
       "1   37675       2408             0.0               0.0                 0.0   \n",
       "\n",
       "   other_attack  attack                                            comment  \\\n",
       "0           0.0     0.0  `-NEWLINE_TOKENThis is not ``creative``.  Thos...   \n",
       "1           0.0     0.0  `-NEWLINE_TOKENThis is not ``creative``.  Thos...   \n",
       "\n",
       "   year  logged_in       ns  sample  split  \\\n",
       "0  2002      False  article  random  train   \n",
       "1  2002      False  article  random  train   \n",
       "\n",
       "                                            comments gender  \\\n",
       "0  `-NEWLINE_TOKENThis is not ``creative``.  Thos...   male   \n",
       "1  `-NEWLINE_TOKENThis is not ``creative``.  Thos...   male   \n",
       "\n",
       "   english_first_language age_group education  \n",
       "0                     0.0     18-30   masters  \n",
       "1                     1.0     30-45        hs  "
      ]
     },
     "execution_count": 16,
     "metadata": {},
     "output_type": "execute_result"
    },
    {
     "data": {
      "text/html": [
       "<div>\n",
       "<style scoped>\n",
       "    .dataframe tbody tr th:only-of-type {\n",
       "        vertical-align: middle;\n",
       "    }\n",
       "\n",
       "    .dataframe tbody tr th {\n",
       "        vertical-align: top;\n",
       "    }\n",
       "\n",
       "    .dataframe thead th {\n",
       "        text-align: right;\n",
       "    }\n",
       "</style>\n",
       "<table border=\"1\" class=\"dataframe\">\n",
       "  <thead>\n",
       "    <tr style=\"text-align: right;\">\n",
       "      <th></th>\n",
       "      <th>rev_id</th>\n",
       "      <th>worker_id</th>\n",
       "      <th>toxicity</th>\n",
       "      <th>toxicity_score</th>\n",
       "      <th>comment</th>\n",
       "      <th>year</th>\n",
       "      <th>logged_in</th>\n",
       "      <th>ns</th>\n",
       "      <th>sample</th>\n",
       "      <th>split</th>\n",
       "      <th>comments</th>\n",
       "      <th>gender</th>\n",
       "      <th>english_first_language</th>\n",
       "      <th>age_group</th>\n",
       "      <th>education</th>\n",
       "    </tr>\n",
       "  </thead>\n",
       "  <tbody>\n",
       "    <tr>\n",
       "      <th>0</th>\n",
       "      <td>2232.0</td>\n",
       "      <td>723</td>\n",
       "      <td>0</td>\n",
       "      <td>0.0</td>\n",
       "      <td>This:NEWLINE_TOKEN:One can make an analogy in ...</td>\n",
       "      <td>2002</td>\n",
       "      <td>True</td>\n",
       "      <td>article</td>\n",
       "      <td>random</td>\n",
       "      <td>train</td>\n",
       "      <td>This:NEWLINE_TOKEN:One can make an analogy in ...</td>\n",
       "      <td>female</td>\n",
       "      <td>0.0</td>\n",
       "      <td>30-45</td>\n",
       "      <td>bachelors</td>\n",
       "    </tr>\n",
       "    <tr>\n",
       "      <th>1</th>\n",
       "      <td>2232.0</td>\n",
       "      <td>4000</td>\n",
       "      <td>0</td>\n",
       "      <td>0.0</td>\n",
       "      <td>This:NEWLINE_TOKEN:One can make an analogy in ...</td>\n",
       "      <td>2002</td>\n",
       "      <td>True</td>\n",
       "      <td>article</td>\n",
       "      <td>random</td>\n",
       "      <td>train</td>\n",
       "      <td>This:NEWLINE_TOKEN:One can make an analogy in ...</td>\n",
       "      <td>male</td>\n",
       "      <td>1.0</td>\n",
       "      <td>18-30</td>\n",
       "      <td>hs</td>\n",
       "    </tr>\n",
       "  </tbody>\n",
       "</table>\n",
       "</div>"
      ],
      "text/plain": [
       "   rev_id  worker_id  toxicity  toxicity_score  \\\n",
       "0  2232.0        723         0             0.0   \n",
       "1  2232.0       4000         0             0.0   \n",
       "\n",
       "                                             comment  year  logged_in  \\\n",
       "0  This:NEWLINE_TOKEN:One can make an analogy in ...  2002       True   \n",
       "1  This:NEWLINE_TOKEN:One can make an analogy in ...  2002       True   \n",
       "\n",
       "        ns  sample  split                                           comments  \\\n",
       "0  article  random  train  This:NEWLINE_TOKEN:One can make an analogy in ...   \n",
       "1  article  random  train  This:NEWLINE_TOKEN:One can make an analogy in ...   \n",
       "\n",
       "   gender  english_first_language age_group  education  \n",
       "0  female                     0.0     30-45  bachelors  \n",
       "1    male                     1.0     18-30         hs  "
      ]
     },
     "execution_count": 16,
     "metadata": {},
     "output_type": "execute_result"
    }
   ],
   "source": [
    "attack_df.head(2)\n",
    "toxic_df.head(2)"
   ]
  },
  {
   "cell_type": "code",
   "execution_count": 17,
   "metadata": {},
   "outputs": [
    {
     "name": "stdout",
     "output_type": "stream",
     "text": [
      "----------Checking %age Missing Values in Attack Dataset------------\n"
     ]
    },
    {
     "data": {
      "text/plain": [
       "rev_id                     0.0\n",
       "worker_id                  0.0\n",
       "quoting_attack             0.0\n",
       "recipient_attack           0.0\n",
       "third_party_attack         0.0\n",
       "other_attack               0.0\n",
       "attack                     0.0\n",
       "comment                    0.0\n",
       "year                       0.0\n",
       "logged_in                  0.0\n",
       "ns                         0.0\n",
       "sample                     0.0\n",
       "split                      0.0\n",
       "comments                   0.0\n",
       "gender                    37.3\n",
       "english_first_language    37.3\n",
       "age_group                 37.3\n",
       "education                 37.3\n",
       "dtype: float64"
      ]
     },
     "execution_count": 17,
     "metadata": {},
     "output_type": "execute_result"
    },
    {
     "name": "stdout",
     "output_type": "stream",
     "text": [
      "----------Checking Missing Values in Toxicity Dataset------------\n"
     ]
    },
    {
     "data": {
      "text/plain": [
       "rev_id                     0.0\n",
       "worker_id                  0.0\n",
       "toxicity                   0.0\n",
       "toxicity_score             0.0\n",
       "comment                    0.0\n",
       "year                       0.0\n",
       "logged_in                  0.0\n",
       "ns                         0.0\n",
       "sample                     0.0\n",
       "split                      0.0\n",
       "comments                   0.0\n",
       "gender                    15.7\n",
       "english_first_language    15.7\n",
       "age_group                 15.7\n",
       "education                 15.7\n",
       "dtype: float64"
      ]
     },
     "execution_count": 17,
     "metadata": {},
     "output_type": "execute_result"
    }
   ],
   "source": [
    "## Checking again the missing values in final dataframes\n",
    "print(\"----------Checking %age Missing Values in Attack Dataset------------\")\n",
    "round((attack_df.isnull().sum()/attack_df.shape[0])*100,1)\n",
    "\n",
    "print(\"----------Checking Missing Values in Toxicity Dataset------------\")\n",
    "round((toxic_df.isnull().sum()/toxic_df.shape[0])*100,1)"
   ]
  },
  {
   "cell_type": "markdown",
   "metadata": {},
   "source": [
    "From the above table, we see that now attack and toxicity dataset have 37% and 16% of missingness respectively. We will impute this missing values as 'Unknown' and use these to compute and analyze our results."
   ]
  },
  {
   "cell_type": "code",
   "execution_count": 18,
   "metadata": {},
   "outputs": [
    {
     "data": {
      "text/html": [
       "<div>\n",
       "<style scoped>\n",
       "    .dataframe tbody tr th:only-of-type {\n",
       "        vertical-align: middle;\n",
       "    }\n",
       "\n",
       "    .dataframe tbody tr th {\n",
       "        vertical-align: top;\n",
       "    }\n",
       "\n",
       "    .dataframe thead th {\n",
       "        text-align: right;\n",
       "    }\n",
       "</style>\n",
       "<table border=\"1\" class=\"dataframe\">\n",
       "  <thead>\n",
       "    <tr style=\"text-align: right;\">\n",
       "      <th></th>\n",
       "      <th>rev_id</th>\n",
       "      <th>worker_id</th>\n",
       "      <th>quoting_attack</th>\n",
       "      <th>recipient_attack</th>\n",
       "      <th>third_party_attack</th>\n",
       "      <th>other_attack</th>\n",
       "      <th>attack</th>\n",
       "      <th>comment</th>\n",
       "      <th>year</th>\n",
       "      <th>logged_in</th>\n",
       "      <th>ns</th>\n",
       "      <th>sample</th>\n",
       "      <th>split</th>\n",
       "      <th>comments</th>\n",
       "      <th>gender</th>\n",
       "      <th>english_first_language</th>\n",
       "      <th>age_group</th>\n",
       "      <th>education</th>\n",
       "    </tr>\n",
       "  </thead>\n",
       "  <tbody>\n",
       "    <tr>\n",
       "      <th>0</th>\n",
       "      <td>37675</td>\n",
       "      <td>1362</td>\n",
       "      <td>0.0</td>\n",
       "      <td>0.0</td>\n",
       "      <td>0.0</td>\n",
       "      <td>0.0</td>\n",
       "      <td>0.0</td>\n",
       "      <td>`-NEWLINE_TOKENThis is not ``creative``.  Thos...</td>\n",
       "      <td>2002</td>\n",
       "      <td>False</td>\n",
       "      <td>article</td>\n",
       "      <td>random</td>\n",
       "      <td>train</td>\n",
       "      <td>`-NEWLINE_TOKENThis is not ``creative``.  Thos...</td>\n",
       "      <td>male</td>\n",
       "      <td>0</td>\n",
       "      <td>18-30</td>\n",
       "      <td>masters</td>\n",
       "    </tr>\n",
       "    <tr>\n",
       "      <th>1</th>\n",
       "      <td>37675</td>\n",
       "      <td>2408</td>\n",
       "      <td>0.0</td>\n",
       "      <td>0.0</td>\n",
       "      <td>0.0</td>\n",
       "      <td>0.0</td>\n",
       "      <td>0.0</td>\n",
       "      <td>`-NEWLINE_TOKENThis is not ``creative``.  Thos...</td>\n",
       "      <td>2002</td>\n",
       "      <td>False</td>\n",
       "      <td>article</td>\n",
       "      <td>random</td>\n",
       "      <td>train</td>\n",
       "      <td>`-NEWLINE_TOKENThis is not ``creative``.  Thos...</td>\n",
       "      <td>male</td>\n",
       "      <td>1</td>\n",
       "      <td>30-45</td>\n",
       "      <td>hs</td>\n",
       "    </tr>\n",
       "  </tbody>\n",
       "</table>\n",
       "</div>"
      ],
      "text/plain": [
       "   rev_id  worker_id  quoting_attack  recipient_attack  third_party_attack  \\\n",
       "0   37675       1362             0.0               0.0                 0.0   \n",
       "1   37675       2408             0.0               0.0                 0.0   \n",
       "\n",
       "   other_attack  attack                                            comment  \\\n",
       "0           0.0     0.0  `-NEWLINE_TOKENThis is not ``creative``.  Thos...   \n",
       "1           0.0     0.0  `-NEWLINE_TOKENThis is not ``creative``.  Thos...   \n",
       "\n",
       "   year  logged_in       ns  sample  split  \\\n",
       "0  2002      False  article  random  train   \n",
       "1  2002      False  article  random  train   \n",
       "\n",
       "                                            comments gender  \\\n",
       "0  `-NEWLINE_TOKENThis is not ``creative``.  Thos...   male   \n",
       "1  `-NEWLINE_TOKENThis is not ``creative``.  Thos...   male   \n",
       "\n",
       "  english_first_language age_group education  \n",
       "0                      0     18-30   masters  \n",
       "1                      1     30-45        hs  "
      ]
     },
     "execution_count": 18,
     "metadata": {},
     "output_type": "execute_result"
    },
    {
     "data": {
      "text/html": [
       "<div>\n",
       "<style scoped>\n",
       "    .dataframe tbody tr th:only-of-type {\n",
       "        vertical-align: middle;\n",
       "    }\n",
       "\n",
       "    .dataframe tbody tr th {\n",
       "        vertical-align: top;\n",
       "    }\n",
       "\n",
       "    .dataframe thead th {\n",
       "        text-align: right;\n",
       "    }\n",
       "</style>\n",
       "<table border=\"1\" class=\"dataframe\">\n",
       "  <thead>\n",
       "    <tr style=\"text-align: right;\">\n",
       "      <th></th>\n",
       "      <th>rev_id</th>\n",
       "      <th>worker_id</th>\n",
       "      <th>toxicity</th>\n",
       "      <th>toxicity_score</th>\n",
       "      <th>comment</th>\n",
       "      <th>year</th>\n",
       "      <th>logged_in</th>\n",
       "      <th>ns</th>\n",
       "      <th>sample</th>\n",
       "      <th>split</th>\n",
       "      <th>comments</th>\n",
       "      <th>gender</th>\n",
       "      <th>english_first_language</th>\n",
       "      <th>age_group</th>\n",
       "      <th>education</th>\n",
       "    </tr>\n",
       "  </thead>\n",
       "  <tbody>\n",
       "    <tr>\n",
       "      <th>0</th>\n",
       "      <td>2232.0</td>\n",
       "      <td>723</td>\n",
       "      <td>0</td>\n",
       "      <td>0.0</td>\n",
       "      <td>This:NEWLINE_TOKEN:One can make an analogy in ...</td>\n",
       "      <td>2002</td>\n",
       "      <td>True</td>\n",
       "      <td>article</td>\n",
       "      <td>random</td>\n",
       "      <td>train</td>\n",
       "      <td>This:NEWLINE_TOKEN:One can make an analogy in ...</td>\n",
       "      <td>female</td>\n",
       "      <td>0</td>\n",
       "      <td>30-45</td>\n",
       "      <td>bachelors</td>\n",
       "    </tr>\n",
       "    <tr>\n",
       "      <th>1</th>\n",
       "      <td>2232.0</td>\n",
       "      <td>4000</td>\n",
       "      <td>0</td>\n",
       "      <td>0.0</td>\n",
       "      <td>This:NEWLINE_TOKEN:One can make an analogy in ...</td>\n",
       "      <td>2002</td>\n",
       "      <td>True</td>\n",
       "      <td>article</td>\n",
       "      <td>random</td>\n",
       "      <td>train</td>\n",
       "      <td>This:NEWLINE_TOKEN:One can make an analogy in ...</td>\n",
       "      <td>male</td>\n",
       "      <td>1</td>\n",
       "      <td>18-30</td>\n",
       "      <td>hs</td>\n",
       "    </tr>\n",
       "  </tbody>\n",
       "</table>\n",
       "</div>"
      ],
      "text/plain": [
       "   rev_id  worker_id  toxicity  toxicity_score  \\\n",
       "0  2232.0        723         0             0.0   \n",
       "1  2232.0       4000         0             0.0   \n",
       "\n",
       "                                             comment  year  logged_in  \\\n",
       "0  This:NEWLINE_TOKEN:One can make an analogy in ...  2002       True   \n",
       "1  This:NEWLINE_TOKEN:One can make an analogy in ...  2002       True   \n",
       "\n",
       "        ns  sample  split                                           comments  \\\n",
       "0  article  random  train  This:NEWLINE_TOKEN:One can make an analogy in ...   \n",
       "1  article  random  train  This:NEWLINE_TOKEN:One can make an analogy in ...   \n",
       "\n",
       "   gender english_first_language age_group  education  \n",
       "0  female                      0     30-45  bachelors  \n",
       "1    male                      1     18-30         hs  "
      ]
     },
     "execution_count": 18,
     "metadata": {},
     "output_type": "execute_result"
    }
   ],
   "source": [
    "## Treating missing values as unknown\n",
    "attack_df = attack_df.fillna('Unknown')\n",
    "toxic_df = toxic_df.fillna('Unknown')\n",
    "attack_df.head(2)\n",
    "toxic_df.head(2)"
   ]
  },
  {
   "cell_type": "markdown",
   "metadata": {},
   "source": [
    "## Step 1.2 Exploratory Data Analysis\n",
    "\n",
    "In following cells, we will be looking into data distribution around the types personal attacks and toxicity scores\n",
    "\n",
    "<b> Of the all comments, labelled as attacking, what are its differetn variations? </b>"
   ]
  },
  {
   "cell_type": "code",
   "execution_count": 19,
   "metadata": {},
   "outputs": [
    {
     "data": {
      "text/plain": [
       "([<matplotlib.patches.Wedge at 0x7fbc26251e50>,\n",
       "  <matplotlib.patches.Wedge at 0x7fbc2625da10>,\n",
       "  <matplotlib.patches.Wedge at 0x7fbc2626e4d0>,\n",
       "  <matplotlib.patches.Wedge at 0x7fbc2626efd0>],\n",
       " [Text(-0.14082332421341556, 1.090948574112219, 'quoting_attack_perc'),\n",
       "  Text(-0.9130370799830343, -0.6134845479521505, 'recipient_attack_perc'),\n",
       "  Text(1.0957617037305405, -0.09646910716671729, 'third_party_attack_perc'),\n",
       "  Text(0.5759558680800902, 0.9371631864430601, 'other_attack_perc')],\n",
       " [Text(-0.07681272229822665, 0.5950628586066647, '4.1%'),\n",
       "  Text(-0.4980202254452914, -0.3346279352466275, '60.7%'),\n",
       "  Text(0.5976882020348402, -0.05261951300002761, '17.7%'),\n",
       "  Text(0.31415774622550374, 0.5111799198780327, '17.5%')])"
      ]
     },
     "execution_count": 19,
     "metadata": {},
     "output_type": "execute_result"
    },
    {
     "data": {
      "text/plain": [
       "Text(0.5, 1.0, 'Distribution of Attacking Comments')"
      ]
     },
     "execution_count": 19,
     "metadata": {},
     "output_type": "execute_result"
    },
    {
     "data": {
      "image/png": "[encoded data removed]",
      "text/plain": [
       "<Figure size 432x288 with 1 Axes>"
      ]
     },
     "metadata": {},
     "output_type": "display_data"
    }
   ],
   "source": [
    "## Of the all comments, labelled as attacking, what are its differetn variations\n",
    "quoting_attack_perc = round((attack_df['quoting_attack'].sum()/attack_df['attack'].sum())*100,2)\n",
    "recipient_attack_perc = round((attack_df['recipient_attack'].sum()/attack_df['attack'].sum())*100,2)\n",
    "third_party_attack_perc = round((attack_df['third_party_attack'].sum()/attack_df['attack'].sum())*100,2)\n",
    "other_attack_perc = round((attack_df['other_attack'].sum()/attack_df['attack'].sum())*100,2)\n",
    "\n",
    "data = [quoting_attack_perc,recipient_attack_perc,third_party_attack_perc,other_attack_perc]\n",
    "labels = ['quoting_attack_perc','recipient_attack_perc','third_party_attack_perc','other_attack_perc']\n",
    "fig1, ax1 = plt.subplots()\n",
    "ax1.pie(data, labels=labels, autopct='%1.1f%%',shadow=True, startangle=90)\n",
    "plt.title('Distribution of Attacking Comments')\n",
    "plt.show()"
   ]
  },
  {
   "cell_type": "markdown",
   "metadata": {},
   "source": [
    "From the above pie chart we see that around 61% of the attacking comments are recipient attacking, meaning that it is attacking the recipient of the message and might intimidate the recipient or force him/her to leave the conversation. In our further analysis we will see if there is any link between a comment having such attacks and if it also labelled as toxic\n",
    "\n",
    "Next we see another similar distribution for toxicity datasets.\n",
    "\n",
    "<b> Of the toxic comments, what is distribution of the comments being very friendly to very toxic?</b>"
   ]
  },
  {
   "cell_type": "code",
   "execution_count": 20,
   "metadata": {},
   "outputs": [
    {
     "data": {
      "text/plain": [
       "([<matplotlib.patches.Wedge at 0x7fbc1052c510>,\n",
       "  <matplotlib.patches.Wedge at 0x7fbc105360d0>,\n",
       "  <matplotlib.patches.Wedge at 0x7fbc10536b50>,\n",
       "  <matplotlib.patches.Wedge at 0x7fbc10541690>,\n",
       "  <matplotlib.patches.Wedge at 0x7fbc1054b210>],\n",
       " [Text(-0.09890429397613204, 1.195917196394919, 'verytoxic_perc'),\n",
       "  Text(-0.6155664076435206, 1.0300864030657093, 'toxic_perc'),\n",
       "  Text(-0.7573553190918282, -0.9308130427982383, 'neutral_perc'),\n",
       "  Text(1.1106322944594722, 0.4544182066155451, 'healthy_perc'),\n",
       "  Text(0.05192769187265835, 1.1988759380422889, 'veryhealthy_perc')],\n",
       " [Text(-0.04945214698806602, 0.5979585981974594, '2.6%'),\n",
       "  Text(-0.3077832038217603, 0.5150432015328547, '11.9%'),\n",
       "  Text(-0.3786776595459141, -0.46540652139911914, '49.2%'),\n",
       "  Text(0.5553161472297361, 0.22720910330777255, '34.9%'),\n",
       "  Text(0.025963845936329177, 0.5994379690211444, '1.4%')])"
      ]
     },
     "execution_count": 20,
     "metadata": {},
     "output_type": "execute_result"
    },
    {
     "data": {
      "text/plain": [
       "Text(0.5, 1.0, ' Distribution of toxic comments \\n')"
      ]
     },
     "execution_count": 20,
     "metadata": {},
     "output_type": "execute_result"
    },
    {
     "data": {
      "image/png": "[encoded data removed]",
      "text/plain": [
       "<Figure size 432x288 with 1 Axes>"
      ]
     },
     "metadata": {},
     "output_type": "display_data"
    }
   ],
   "source": [
    "## Of the all comments, labelled as attacking, what are its differetn variations\n",
    "verytoxic_perc = round((toxic_df[toxic_df['toxicity_score']==-2.0].shape[0]/toxic_df['toxicity'].sum())*100,2)\n",
    "toxic_perc = round((toxic_df[toxic_df['toxicity_score']==-1.0].shape[0]/toxic_df['toxicity'].sum())*100,2)\n",
    "neutral_perc = round((toxic_df[toxic_df['toxicity_score']==0.0].shape[0]/toxic_df['toxicity'].sum())*100,2)\n",
    "healthy_perc = round((toxic_df[toxic_df['toxicity_score']==1.0].shape[0]/toxic_df['toxicity'].sum())*100,2)\n",
    "veryhealthy_perc = round((toxic_df[toxic_df['toxicity_score']==2.0].shape[0]/toxic_df['toxicity'].sum())*100,2)\n",
    "\n",
    "data = [verytoxic_perc, toxic_perc, neutral_perc, healthy_perc,veryhealthy_perc]\n",
    "labels = ['verytoxic_perc','toxic_perc','neutral_perc','healthy_perc','veryhealthy_perc']\n",
    "fig1, ax1 = plt.subplots()\n",
    "ax1.pie(data, labels=labels, autopct='%1.1f%%',shadow=True, startangle=90, labeldistance=1.2)\n",
    "plt.title(' Distribution of toxic comments \\n')\n",
    "plt.show()"
   ]
  },
  {
   "cell_type": "markdown",
   "metadata": {},
   "source": [
    "From the above representation, we see that around 50% of the comments are neutral toxic whereas around ~14% of comments are toxic comments."
   ]
  },
  {
   "cell_type": "markdown",
   "metadata": {},
   "source": [
    "### Step 1.3 \n",
    "\n",
    "### Analysis 1:  Analyze the demographic information about the Crowdflower workers that is available in the dataset\n",
    "\n",
    "#### Research Questions\n",
    "- Q Does the Crowdflower worker's populations a balanced representation of gender, age-groups and education.Since the above datasets is from English Wikipedia, therefore it will be interesting to see what is the distribution of workers amongst their first language spoken\n",
    "\n",
    "We will be analyzing the above trend for both our attack dataset and toxicity dataset. My motivation to include both the dataset in analysis is to have a complete picture of bias occuring or not occuring in both of these datasets.\n",
    "\n",
    "#### Analysis Questions\n",
    "- Workers distribution across the following demographics:\n",
    " - gender, \n",
    " - age-group, \n",
    " - education and \n",
    " - first language spoken\n",
    "\n",
    "The following lines of code contain the manipulation of our master dataframe attack_df and toxic_df to see the distribution mentioned in above questions. We will be comparing the toxicity and attack datasets simulatanousely in each graph for: gender, education, age-group and first language spoken feature.\n",
    "<br> For our graphical analyis, we have opted for bar charts. The outputs figures are stored as .png files in the output directory of our folder for future references."
   ]
  },
  {
   "cell_type": "markdown",
   "metadata": {},
   "source": [
    "### Step 1.3.1 Gender Distribution across Attack & Toxicity Dataset"
   ]
  },
  {
   "cell_type": "code",
   "execution_count": 38,
   "metadata": {},
   "outputs": [
    {
     "data": {
      "text/html": [
       "<div>\n",
       "<style scoped>\n",
       "    .dataframe tbody tr th:only-of-type {\n",
       "        vertical-align: middle;\n",
       "    }\n",
       "\n",
       "    .dataframe tbody tr th {\n",
       "        vertical-align: top;\n",
       "    }\n",
       "\n",
       "    .dataframe thead th {\n",
       "        text-align: right;\n",
       "    }\n",
       "</style>\n",
       "<table border=\"1\" class=\"dataframe\">\n",
       "  <thead>\n",
       "    <tr style=\"text-align: right;\">\n",
       "      <th></th>\n",
       "      <th>gender</th>\n",
       "      <th>TotalWorkers</th>\n",
       "      <th>Dataset</th>\n",
       "    </tr>\n",
       "  </thead>\n",
       "  <tbody>\n",
       "    <tr>\n",
       "      <th>0</th>\n",
       "      <td>Unknown</td>\n",
       "      <td>1863</td>\n",
       "      <td>Attack</td>\n",
       "    </tr>\n",
       "    <tr>\n",
       "      <th>1</th>\n",
       "      <td>female</td>\n",
       "      <td>840</td>\n",
       "      <td>Attack</td>\n",
       "    </tr>\n",
       "    <tr>\n",
       "      <th>2</th>\n",
       "      <td>male</td>\n",
       "      <td>1349</td>\n",
       "      <td>Attack</td>\n",
       "    </tr>\n",
       "    <tr>\n",
       "      <th>3</th>\n",
       "      <td>other</td>\n",
       "      <td>1</td>\n",
       "      <td>Attack</td>\n",
       "    </tr>\n",
       "    <tr>\n",
       "      <th>0</th>\n",
       "      <td>Unknown</td>\n",
       "      <td>710</td>\n",
       "      <td>Toxicity</td>\n",
       "    </tr>\n",
       "    <tr>\n",
       "      <th>1</th>\n",
       "      <td>female</td>\n",
       "      <td>1263</td>\n",
       "      <td>Toxicity</td>\n",
       "    </tr>\n",
       "    <tr>\n",
       "      <th>2</th>\n",
       "      <td>male</td>\n",
       "      <td>2327</td>\n",
       "      <td>Toxicity</td>\n",
       "    </tr>\n",
       "    <tr>\n",
       "      <th>3</th>\n",
       "      <td>other</td>\n",
       "      <td>1</td>\n",
       "      <td>Toxicity</td>\n",
       "    </tr>\n",
       "  </tbody>\n",
       "</table>\n",
       "</div>"
      ],
      "text/plain": [
       "    gender  TotalWorkers   Dataset\n",
       "0  Unknown          1863    Attack\n",
       "1   female           840    Attack\n",
       "2     male          1349    Attack\n",
       "3    other             1    Attack\n",
       "0  Unknown           710  Toxicity\n",
       "1   female          1263  Toxicity\n",
       "2     male          2327  Toxicity\n",
       "3    other             1  Toxicity"
      ]
     },
     "execution_count": 38,
     "metadata": {},
     "output_type": "execute_result"
    },
    {
     "name": "stdout",
     "output_type": "stream",
     "text": [
      "Preparing the bar plot for Gender Distribution\n"
     ]
    },
    {
     "data": {
      "text/plain": [
       "<seaborn.axisgrid.FacetGrid at 0x7fbc0c8d6550>"
      ]
     },
     "execution_count": 38,
     "metadata": {},
     "output_type": "execute_result"
    },
    {
     "data": {
      "image/png": "[encoded data removed]",
      "text/plain": [
       "<Figure size 583.575x432 with 1 Axes>"
      ]
     },
     "metadata": {},
     "output_type": "display_data"
    }
   ],
   "source": [
    "## Creating Gender-count table for attack dataset\n",
    "gender_attack = attack_df.groupby(['gender']).agg({'worker_id': 'nunique'}).reset_index()\n",
    "gender_attack['Dataset'] = 'Attack'\n",
    "gender_attack.rename(columns = {'gender': 'gender','worker_id': 'TotalWorkers'}, inplace = True)\n",
    "\n",
    "## Doing the same table for Toxicity dataset also\n",
    "gender_toxic = toxic_df.groupby(['gender']).agg({'worker_id': 'nunique'}).reset_index()\n",
    "gender_toxic['Dataset'] = 'Toxicity'\n",
    "gender_toxic.rename(columns = {'gender': 'gender','worker_id': 'TotalWorkers'}, inplace = True)\n",
    "\n",
    "## Creating final table of gender distribution for both dataset\n",
    "gender = gender_attack.append(gender_toxic)\n",
    "gender\n",
    "\n",
    "print(\"Preparing the bar plot for Gender Distribution\")\n",
    "sns.set_style(\"whitegrid\") #gridlines\n",
    "sns.set(font_scale=2)  \n",
    "bplt = sns.catplot(data=gender, kind=\"bar\",x=\"gender\", y=\"TotalWorkers\", hue=\"Dataset\",palette=\"hls\", alpha=.8, height=6)\n",
    "bplt.set_axis_labels(\"Gender\", \"Number of Workers\")\n",
    "\n",
    "bplt.savefig('../results/gender_distribution.png')"
   ]
  },
  {
   "cell_type": "markdown",
   "metadata": {},
   "source": [
    "<b>Observations:</b>\n",
    "<br>From the above distribution, we see that the workers population is heavily dominated by males workers over female or other-gender workers. Also considering the fact that for around 2500 workers, we do not know the gender data. Taking the current data distribution, it is very likely that the annotations may mostly miss a female or other gender perspecitive on the comments. Thus, we need to be careful before finalising any conclusions on the wikipedia comments."
   ]
  },
  {
   "cell_type": "markdown",
   "metadata": {},
   "source": [
    "### Step 1.3.2 Age Group Distribution across Attack & Toxicity Dataset"
   ]
  },
  {
   "cell_type": "code",
   "execution_count": 37,
   "metadata": {},
   "outputs": [
    {
     "data": {
      "text/html": [
       "<div>\n",
       "<style scoped>\n",
       "    .dataframe tbody tr th:only-of-type {\n",
       "        vertical-align: middle;\n",
       "    }\n",
       "\n",
       "    .dataframe tbody tr th {\n",
       "        vertical-align: top;\n",
       "    }\n",
       "\n",
       "    .dataframe thead th {\n",
       "        text-align: right;\n",
       "    }\n",
       "</style>\n",
       "<table border=\"1\" class=\"dataframe\">\n",
       "  <thead>\n",
       "    <tr style=\"text-align: right;\">\n",
       "      <th></th>\n",
       "      <th>age_group</th>\n",
       "      <th>TotalWorkers</th>\n",
       "      <th>Dataset</th>\n",
       "    </tr>\n",
       "  </thead>\n",
       "  <tbody>\n",
       "    <tr>\n",
       "      <th>0</th>\n",
       "      <td>18-30</td>\n",
       "      <td>1049</td>\n",
       "      <td>Attack</td>\n",
       "    </tr>\n",
       "    <tr>\n",
       "      <th>1</th>\n",
       "      <td>30-45</td>\n",
       "      <td>831</td>\n",
       "      <td>Attack</td>\n",
       "    </tr>\n",
       "    <tr>\n",
       "      <th>2</th>\n",
       "      <td>45-60</td>\n",
       "      <td>218</td>\n",
       "      <td>Attack</td>\n",
       "    </tr>\n",
       "    <tr>\n",
       "      <th>3</th>\n",
       "      <td>None</td>\n",
       "      <td>35</td>\n",
       "      <td>Attack</td>\n",
       "    </tr>\n",
       "    <tr>\n",
       "      <th>4</th>\n",
       "      <td>Over 60</td>\n",
       "      <td>20</td>\n",
       "      <td>Attack</td>\n",
       "    </tr>\n",
       "    <tr>\n",
       "      <th>5</th>\n",
       "      <td>Under 18</td>\n",
       "      <td>37</td>\n",
       "      <td>Attack</td>\n",
       "    </tr>\n",
       "    <tr>\n",
       "      <th>6</th>\n",
       "      <td>Unknown</td>\n",
       "      <td>1863</td>\n",
       "      <td>Attack</td>\n",
       "    </tr>\n",
       "    <tr>\n",
       "      <th>0</th>\n",
       "      <td>18-30</td>\n",
       "      <td>1862</td>\n",
       "      <td>Toxicity</td>\n",
       "    </tr>\n",
       "    <tr>\n",
       "      <th>1</th>\n",
       "      <td>30-45</td>\n",
       "      <td>1247</td>\n",
       "      <td>Toxicity</td>\n",
       "    </tr>\n",
       "    <tr>\n",
       "      <th>2</th>\n",
       "      <td>45-60</td>\n",
       "      <td>296</td>\n",
       "      <td>Toxicity</td>\n",
       "    </tr>\n",
       "    <tr>\n",
       "      <th>3</th>\n",
       "      <td>None</td>\n",
       "      <td>77</td>\n",
       "      <td>Toxicity</td>\n",
       "    </tr>\n",
       "    <tr>\n",
       "      <th>4</th>\n",
       "      <td>Over 60</td>\n",
       "      <td>30</td>\n",
       "      <td>Toxicity</td>\n",
       "    </tr>\n",
       "    <tr>\n",
       "      <th>5</th>\n",
       "      <td>Under 18</td>\n",
       "      <td>79</td>\n",
       "      <td>Toxicity</td>\n",
       "    </tr>\n",
       "    <tr>\n",
       "      <th>6</th>\n",
       "      <td>Unknown</td>\n",
       "      <td>710</td>\n",
       "      <td>Toxicity</td>\n",
       "    </tr>\n",
       "  </tbody>\n",
       "</table>\n",
       "</div>"
      ],
      "text/plain": [
       "  age_group  TotalWorkers   Dataset\n",
       "0     18-30          1049    Attack\n",
       "1     30-45           831    Attack\n",
       "2     45-60           218    Attack\n",
       "3      None            35    Attack\n",
       "4   Over 60            20    Attack\n",
       "5  Under 18            37    Attack\n",
       "6   Unknown          1863    Attack\n",
       "0     18-30          1862  Toxicity\n",
       "1     30-45          1247  Toxicity\n",
       "2     45-60           296  Toxicity\n",
       "3      None            77  Toxicity\n",
       "4   Over 60            30  Toxicity\n",
       "5  Under 18            79  Toxicity\n",
       "6   Unknown           710  Toxicity"
      ]
     },
     "execution_count": 37,
     "metadata": {},
     "output_type": "execute_result"
    },
    {
     "name": "stdout",
     "output_type": "stream",
     "text": [
      "Preparing the bar plot for Age Group Distribution\n"
     ]
    },
    {
     "data": {
      "text/plain": [
       "<seaborn.axisgrid.FacetGrid at 0x7fbc0c8d6690>"
      ]
     },
     "execution_count": 37,
     "metadata": {},
     "output_type": "execute_result"
    },
    {
     "data": {
      "image/png": "[encoded data removed]",
      "text/plain": [
       "<Figure size 595.145x504 with 1 Axes>"
      ]
     },
     "metadata": {},
     "output_type": "display_data"
    }
   ],
   "source": [
    "## Creating age-group-count table for attack dataset\n",
    "agegrp_attack = attack_df.groupby(['age_group']).agg({'worker_id': 'nunique'}).reset_index()\n",
    "agegrp_attack['Dataset'] = 'Attack'\n",
    "agegrp_attack.rename(columns = {'age_group': 'age_group','worker_id': 'TotalWorkers'}, inplace = True)\n",
    "\n",
    "## Doing the same table for Toxicity dataset also\n",
    "agegrp_toxic = toxic_df.groupby(['age_group']).agg({'worker_id': 'nunique'}).reset_index()\n",
    "agegrp_toxic['Dataset'] = 'Toxicity'\n",
    "agegrp_toxic.rename(columns = {'age_group': 'age_group','worker_id': 'TotalWorkers'}, inplace = True)\n",
    "\n",
    "## Creating final table of age group distribution for both dataset\n",
    "agegrp = agegrp_attack.append(agegrp_toxic)\n",
    "agegrp\n",
    "\n",
    "print(\"Preparing the bar plot for Age Group Distribution\")\n",
    "sns.set_style(\"whitegrid\") #gridlines\n",
    "sns.set(font_scale=1.2)  \n",
    "#sns.color_palette(\"hls\", 8) sns.color_palette(\"tab10\")\n",
    "bplt = sns.catplot(data=agegrp, kind=\"bar\",x=\"age_group\", y=\"TotalWorkers\",palette=\"hls\", hue=\"Dataset\", alpha=1, height=7)\n",
    "bplt.set_axis_labels(\"Age_group\", \"Number of Workers\")\n",
    "\n",
    "bplt.savefig('../results/age_group_distribution.png')"
   ]
  },
  {
   "cell_type": "markdown",
   "metadata": {},
   "source": [
    "<b>Observations:</b>\n",
    "<br>From the above distribution, we see that the workers population is heavily dominated by 18-30 age group workers. It is also worth noting that Attack dataset has a lot of missing values about the workers demographic so all our observations and conclusions are based on the variation for the remainining population only. Taking the current data distribution, it is very likely that the annotations may mostly miss perspecitive from under 18 or over 60 population. Thus, we need to be careful before finalising any conclusions on the wikipedia comments."
   ]
  },
  {
   "cell_type": "markdown",
   "metadata": {},
   "source": [
    "### Step 1.3.3 Education Level Distribution across Attack & Toxicity Dataset"
   ]
  },
  {
   "cell_type": "code",
   "execution_count": 43,
   "metadata": {},
   "outputs": [
    {
     "data": {
      "text/html": [
       "<div>\n",
       "<style scoped>\n",
       "    .dataframe tbody tr th:only-of-type {\n",
       "        vertical-align: middle;\n",
       "    }\n",
       "\n",
       "    .dataframe tbody tr th {\n",
       "        vertical-align: top;\n",
       "    }\n",
       "\n",
       "    .dataframe thead th {\n",
       "        text-align: right;\n",
       "    }\n",
       "</style>\n",
       "<table border=\"1\" class=\"dataframe\">\n",
       "  <thead>\n",
       "    <tr style=\"text-align: right;\">\n",
       "      <th></th>\n",
       "      <th>education</th>\n",
       "      <th>TotalWorkers</th>\n",
       "      <th>Dataset</th>\n",
       "    </tr>\n",
       "  </thead>\n",
       "  <tbody>\n",
       "    <tr>\n",
       "      <th>0</th>\n",
       "      <td>Unknown</td>\n",
       "      <td>1863</td>\n",
       "      <td>Attack</td>\n",
       "    </tr>\n",
       "    <tr>\n",
       "      <th>1</th>\n",
       "      <td>bachelors</td>\n",
       "      <td>862</td>\n",
       "      <td>Attack</td>\n",
       "    </tr>\n",
       "    <tr>\n",
       "      <th>2</th>\n",
       "      <td>doctorate</td>\n",
       "      <td>20</td>\n",
       "      <td>Attack</td>\n",
       "    </tr>\n",
       "    <tr>\n",
       "      <th>3</th>\n",
       "      <td>hs</td>\n",
       "      <td>631</td>\n",
       "      <td>Attack</td>\n",
       "    </tr>\n",
       "    <tr>\n",
       "      <th>4</th>\n",
       "      <td>masters</td>\n",
       "      <td>385</td>\n",
       "      <td>Attack</td>\n",
       "    </tr>\n",
       "    <tr>\n",
       "      <th>5</th>\n",
       "      <td>none</td>\n",
       "      <td>1</td>\n",
       "      <td>Attack</td>\n",
       "    </tr>\n",
       "    <tr>\n",
       "      <th>6</th>\n",
       "      <td>professional</td>\n",
       "      <td>243</td>\n",
       "      <td>Attack</td>\n",
       "    </tr>\n",
       "    <tr>\n",
       "      <th>7</th>\n",
       "      <td>some</td>\n",
       "      <td>48</td>\n",
       "      <td>Attack</td>\n",
       "    </tr>\n",
       "    <tr>\n",
       "      <th>0</th>\n",
       "      <td>Unknown</td>\n",
       "      <td>710</td>\n",
       "      <td>Toxicity</td>\n",
       "    </tr>\n",
       "    <tr>\n",
       "      <th>1</th>\n",
       "      <td>bachelors</td>\n",
       "      <td>1441</td>\n",
       "      <td>Toxicity</td>\n",
       "    </tr>\n",
       "    <tr>\n",
       "      <th>2</th>\n",
       "      <td>doctorate</td>\n",
       "      <td>41</td>\n",
       "      <td>Toxicity</td>\n",
       "    </tr>\n",
       "    <tr>\n",
       "      <th>3</th>\n",
       "      <td>hs</td>\n",
       "      <td>1026</td>\n",
       "      <td>Toxicity</td>\n",
       "    </tr>\n",
       "    <tr>\n",
       "      <th>4</th>\n",
       "      <td>masters</td>\n",
       "      <td>546</td>\n",
       "      <td>Toxicity</td>\n",
       "    </tr>\n",
       "    <tr>\n",
       "      <th>5</th>\n",
       "      <td>none</td>\n",
       "      <td>3</td>\n",
       "      <td>Toxicity</td>\n",
       "    </tr>\n",
       "    <tr>\n",
       "      <th>6</th>\n",
       "      <td>professional</td>\n",
       "      <td>441</td>\n",
       "      <td>Toxicity</td>\n",
       "    </tr>\n",
       "    <tr>\n",
       "      <th>7</th>\n",
       "      <td>some</td>\n",
       "      <td>93</td>\n",
       "      <td>Toxicity</td>\n",
       "    </tr>\n",
       "  </tbody>\n",
       "</table>\n",
       "</div>"
      ],
      "text/plain": [
       "      education  TotalWorkers   Dataset\n",
       "0       Unknown          1863    Attack\n",
       "1     bachelors           862    Attack\n",
       "2     doctorate            20    Attack\n",
       "3            hs           631    Attack\n",
       "4       masters           385    Attack\n",
       "5          none             1    Attack\n",
       "6  professional           243    Attack\n",
       "7          some            48    Attack\n",
       "0       Unknown           710  Toxicity\n",
       "1     bachelors          1441  Toxicity\n",
       "2     doctorate            41  Toxicity\n",
       "3            hs          1026  Toxicity\n",
       "4       masters           546  Toxicity\n",
       "5          none             3  Toxicity\n",
       "6  professional           441  Toxicity\n",
       "7          some            93  Toxicity"
      ]
     },
     "execution_count": 43,
     "metadata": {},
     "output_type": "execute_result"
    },
    {
     "name": "stdout",
     "output_type": "stream",
     "text": [
      "Preparing the bar plot for Education Distribution\n"
     ]
    },
    {
     "data": {
      "text/plain": [
       "<seaborn.axisgrid.FacetGrid at 0x7fbc0b5ad950>"
      ]
     },
     "execution_count": 43,
     "metadata": {},
     "output_type": "execute_result"
    },
    {
     "data": {
      "image/png": "[encoded data removed]",
      "text/plain": [
       "<Figure size 595.145x504 with 1 Axes>"
      ]
     },
     "metadata": {},
     "output_type": "display_data"
    }
   ],
   "source": [
    "## Creating education-count table for attack dataset\n",
    "edu_attack = attack_df.groupby(['education']).agg({'worker_id': 'nunique'}).reset_index()\n",
    "edu_attack['Dataset'] = 'Attack'\n",
    "edu_attack.rename(columns = {'education': 'education','worker_id': 'TotalWorkers'}, inplace = True)\n",
    "\n",
    "## Doing the same table for Toxicity dataset also\n",
    "edu_toxic = toxic_df.groupby(['education']).agg({'worker_id': 'nunique'}).reset_index()\n",
    "edu_toxic['Dataset'] = 'Toxicity'\n",
    "edu_toxic.rename(columns = {'education': 'education','worker_id': 'TotalWorkers'}, inplace = True)\n",
    "\n",
    "## Creating final table of age group distribution for both dataset\n",
    "edu = edu_attack.append(edu_toxic)\n",
    "edu\n",
    "\n",
    "print(\"Preparing the bar plot for Education Distribution\")\n",
    "sns.set_style(\"whitegrid\") #gridlines\n",
    "sns.set(rc={'figure.figsize':(20,10.27)})\n",
    "sns.set(font_scale=1.2)  \n",
    "#sns.color_palette(\"hls\", 8) sns.color_palette(\"tab10\")\n",
    "bplt = sns.catplot(data=edu, kind=\"bar\",x=\"education\", y=\"TotalWorkers\",palette=\"hls\", hue=\"Dataset\", alpha=1, height=7)\n",
    "bplt.set_axis_labels(\"education\", \"Number of Workers\")\n",
    "\n",
    "bplt.savefig('../results/education_distribution.png')"
   ]
  },
  {
   "cell_type": "markdown",
   "metadata": {},
   "source": [
    "<b>Observations:</b>\n",
    "<br>From the above distribution, we see that the majority of the workers population have either bachelors or passed high school. It is also worth noting that Attack dataset has a lot of missing values about the workers demographic so all our observations and conclusions are based on the variation for the remainining population only. Taking the current data distribution, it is very likely that the annotations may mostly have perspecitive workers with bachelore or hs degree. The implication this may have on our dataset is that that annotators might not have knowledge about some high-level terminologies that a master or phd. holder might be aware of. Thus, we need to be careful before finalising any conclusions on the wikipedia comments."
   ]
  },
  {
   "cell_type": "markdown",
   "metadata": {},
   "source": [
    "### Step 1.3.4 Primary Language Distribution across Attack & Toxicity Dataset"
   ]
  },
  {
   "cell_type": "code",
   "execution_count": 45,
   "metadata": {},
   "outputs": [
    {
     "data": {
      "text/html": [
       "<div>\n",
       "<style scoped>\n",
       "    .dataframe tbody tr th:only-of-type {\n",
       "        vertical-align: middle;\n",
       "    }\n",
       "\n",
       "    .dataframe tbody tr th {\n",
       "        vertical-align: top;\n",
       "    }\n",
       "\n",
       "    .dataframe thead th {\n",
       "        text-align: right;\n",
       "    }\n",
       "</style>\n",
       "<table border=\"1\" class=\"dataframe\">\n",
       "  <thead>\n",
       "    <tr style=\"text-align: right;\">\n",
       "      <th></th>\n",
       "      <th>english_first_language</th>\n",
       "      <th>TotalWorkers</th>\n",
       "      <th>Dataset</th>\n",
       "    </tr>\n",
       "  </thead>\n",
       "  <tbody>\n",
       "    <tr>\n",
       "      <th>0</th>\n",
       "      <td>0</td>\n",
       "      <td>1788</td>\n",
       "      <td>Attack</td>\n",
       "    </tr>\n",
       "    <tr>\n",
       "      <th>1</th>\n",
       "      <td>1</td>\n",
       "      <td>402</td>\n",
       "      <td>Attack</td>\n",
       "    </tr>\n",
       "    <tr>\n",
       "      <th>2</th>\n",
       "      <td>Unknown</td>\n",
       "      <td>1863</td>\n",
       "      <td>Attack</td>\n",
       "    </tr>\n",
       "    <tr>\n",
       "      <th>0</th>\n",
       "      <td>0</td>\n",
       "      <td>2925</td>\n",
       "      <td>Toxicity</td>\n",
       "    </tr>\n",
       "    <tr>\n",
       "      <th>1</th>\n",
       "      <td>1</td>\n",
       "      <td>666</td>\n",
       "      <td>Toxicity</td>\n",
       "    </tr>\n",
       "    <tr>\n",
       "      <th>2</th>\n",
       "      <td>Unknown</td>\n",
       "      <td>710</td>\n",
       "      <td>Toxicity</td>\n",
       "    </tr>\n",
       "  </tbody>\n",
       "</table>\n",
       "</div>"
      ],
      "text/plain": [
       "  english_first_language  TotalWorkers   Dataset\n",
       "0                      0          1788    Attack\n",
       "1                      1           402    Attack\n",
       "2                Unknown          1863    Attack\n",
       "0                      0          2925  Toxicity\n",
       "1                      1           666  Toxicity\n",
       "2                Unknown           710  Toxicity"
      ]
     },
     "execution_count": 45,
     "metadata": {},
     "output_type": "execute_result"
    },
    {
     "name": "stdout",
     "output_type": "stream",
     "text": [
      "Preparing the bar plot for English_first_language Distribution\n"
     ]
    },
    {
     "data": {
      "text/plain": [
       "<seaborn.axisgrid.FacetGrid at 0x7fbc0c837d50>"
      ]
     },
     "execution_count": 45,
     "metadata": {},
     "output_type": "execute_result"
    },
    {
     "data": {
      "image/png": "[encoded data removed]",
      "text/plain": [
       "<Figure size 595.145x504 with 1 Axes>"
      ]
     },
     "metadata": {},
     "output_type": "display_data"
    }
   ],
   "source": [
    "## Creating primary language-count table for attack dataset\n",
    "engl_attack = attack_df.groupby(['english_first_language']).agg({'worker_id': 'nunique'}).reset_index()\n",
    "engl_attack['Dataset'] = 'Attack'\n",
    "engl_attack.rename(columns = {'english_first_language': 'english_first_language','worker_id': 'TotalWorkers'}, inplace = True)\n",
    "\n",
    "## Doing the same table for Toxicity dataset also\n",
    "engl_toxic = toxic_df.groupby(['english_first_language']).agg({'worker_id': 'nunique'}).reset_index()\n",
    "engl_toxic['Dataset'] = 'Toxicity'\n",
    "engl_toxic.rename(columns = {'english_first_language': 'english_first_language','worker_id': 'TotalWorkers'}, inplace = True)\n",
    "\n",
    "## Creating final table of age group distribution for both dataset\n",
    "engl = engl_attack.append(engl_toxic)\n",
    "engl\n",
    "\n",
    "print(\"Preparing the bar plot for English_first_language Distribution\")\n",
    "sns.set_style(\"whitegrid\") #gridlines\n",
    "sns.set(rc={'figure.figsize':(20,10.27)})\n",
    "sns.set(font_scale=1.2)  \n",
    "#sns.color_palette(\"hls\", 8) sns.color_palette(\"tab10\")\n",
    "bplt = sns.catplot(data=engl, kind=\"bar\",x=\"english_first_language\", y=\"TotalWorkers\",palette=\"hls\", hue=\"Dataset\", alpha=1, height=7)\n",
    "bplt.set_axis_labels(\"english_first_language\", \"Number of Workers\")\n",
    "\n",
    "bplt.savefig('../results/primary_language_eng_distribution.png')"
   ]
  },
  {
   "cell_type": "markdown",
   "metadata": {},
   "source": [
    "<b>Observations:</b>\n",
    "<br>From the above distribution, we see that the majority of the workers population do not have english as their first language. This is super interesting to learn that because since the dataset is from English Wikipedia, if the annotators are not fluent with English language, they might miss or over-read some common lingo that might be normal in this country but offensive or toxic in their native country. As followed from above insights, it is worth noting that Attack dataset has a lot of missing values about the workers demographic so all our observations and conclusions are based on the variation for the remainining population only. Taking the current data distribution, we believe that there might be a bias in labelling any comment as attacking or toxic given that the annotators dont speak primarily English language"
   ]
  },
  {
   "cell_type": "markdown",
   "metadata": {},
   "source": [
    "### Potential implications\n",
    " 1. <u>About Gender Distribution</u>: We see that workers are predominantly males and we have very less representations from female or other gender. This is turn might prevent annotating most of comments from getting a female or non-binary point of views. It is possible something that is perceived as non-attacking or non-toxic from a male point of view might be toxic or attacking for other genders. We should aim to have a balanced distribution of all different genders.\n",
    " 2. <u>About Age Group Distribution</u>: We see that workers are predominantly in the age of 18-45. While this is good for annotating on the comments, we might miss the prespectives of young or old population.It is possible something that is perceived as non-attacking or non-toxic from a 21-40 year of adults might be offensive for younger populations or even the elderly.We should aim to have a balanced distribution of all different genders.\n",
    " 3. <u>About Education Distribution</u>: We see that workers are predominantly  having bachelors or high school passouts. Similar to above inferences, we should aim for a balanced educated worker population so that the comments have a complete and uniform checking. It is very much possible that the some high-level terminologies that are actually toxic or attacking might be missed by the less educated workers.\n",
    " 4. <u>About Primary Language distribution</u>, this is one of the very interesting observation according to me since it highlights an important bias in the data. Since the majority of the worker population are not primary-english speaker, the english wikipedia data they are annotating might have some bias in truly identifying a toxic or attacking comments."
   ]
  },
  {
   "cell_type": "markdown",
   "metadata": {},
   "source": [
    "### Step 1.4\n",
    "\n",
    "### Analysis 2:  Explore relationships between worker demographics and labeling behavior\n",
    "\n",
    "#### Research Questions\n",
    "- Q Are there any patterns or inherent differences in how the crowdflower worker's percieve a comment as toxic or attacking based on their gender, education or age-group?\n",
    "<br>We will be analyzing the above trend for toxicity dataset. My motivation to include just the toxicity dataset in analysis is two folds. Firstly, the attack dataset has around 50% demographic details missing for its worker whereas for toxicity dataset this values is below20%. Secondly, I wanted to have a deeper analysis on this one dataset and see if I can identify any underlying bias.\n",
    "\n",
    "#### Analysis Questions\n",
    "- Workers Annotation distribution across the following demographics:\n",
    " - gender, \n",
    " - age-group, \n",
    " - education and \n",
    "\n",
    "The following lines of code contain the manipulation of our master dataframe toxic_df to see the distribution mentioned in above questions. We will be analyzing the toxicity datasets in each graph for: gender, education and age-group feature.\n",
    "<br> Continuing from our previous analysis, we have opted for bar charts. The outputs figures are stored as .png files in the output directory of our folder for future references."
   ]
  },
  {
   "cell_type": "code",
   "execution_count": 68,
   "metadata": {},
   "outputs": [
    {
     "data": {
      "text/html": [
       "<div>\n",
       "<style scoped>\n",
       "    .dataframe tbody tr th:only-of-type {\n",
       "        vertical-align: middle;\n",
       "    }\n",
       "\n",
       "    .dataframe tbody tr th {\n",
       "        vertical-align: top;\n",
       "    }\n",
       "\n",
       "    .dataframe thead th {\n",
       "        text-align: right;\n",
       "    }\n",
       "</style>\n",
       "<table border=\"1\" class=\"dataframe\">\n",
       "  <thead>\n",
       "    <tr style=\"text-align: right;\">\n",
       "      <th></th>\n",
       "      <th>worker_id</th>\n",
       "      <th>gender</th>\n",
       "      <th>education</th>\n",
       "      <th>age_group</th>\n",
       "      <th>english_first_language</th>\n",
       "      <th>TotalComments</th>\n",
       "      <th>TotalToxicComments</th>\n",
       "      <th>perc</th>\n",
       "    </tr>\n",
       "  </thead>\n",
       "  <tbody>\n",
       "    <tr>\n",
       "      <th>0</th>\n",
       "      <td>0</td>\n",
       "      <td>male</td>\n",
       "      <td>professional</td>\n",
       "      <td>30-45</td>\n",
       "      <td>0</td>\n",
       "      <td>479</td>\n",
       "      <td>77</td>\n",
       "      <td>16.08</td>\n",
       "    </tr>\n",
       "    <tr>\n",
       "      <th>1</th>\n",
       "      <td>1</td>\n",
       "      <td>male</td>\n",
       "      <td>hs</td>\n",
       "      <td>18-30</td>\n",
       "      <td>0</td>\n",
       "      <td>45</td>\n",
       "      <td>5</td>\n",
       "      <td>11.11</td>\n",
       "    </tr>\n",
       "    <tr>\n",
       "      <th>2</th>\n",
       "      <td>2</td>\n",
       "      <td>Unknown</td>\n",
       "      <td>Unknown</td>\n",
       "      <td>Unknown</td>\n",
       "      <td>Unknown</td>\n",
       "      <td>476</td>\n",
       "      <td>37</td>\n",
       "      <td>7.77</td>\n",
       "    </tr>\n",
       "    <tr>\n",
       "      <th>3</th>\n",
       "      <td>3</td>\n",
       "      <td>female</td>\n",
       "      <td>bachelors</td>\n",
       "      <td>18-30</td>\n",
       "      <td>0</td>\n",
       "      <td>367</td>\n",
       "      <td>42</td>\n",
       "      <td>11.44</td>\n",
       "    </tr>\n",
       "    <tr>\n",
       "      <th>4</th>\n",
       "      <td>4</td>\n",
       "      <td>Unknown</td>\n",
       "      <td>Unknown</td>\n",
       "      <td>Unknown</td>\n",
       "      <td>Unknown</td>\n",
       "      <td>475</td>\n",
       "      <td>135</td>\n",
       "      <td>28.42</td>\n",
       "    </tr>\n",
       "  </tbody>\n",
       "</table>\n",
       "</div>"
      ],
      "text/plain": [
       "   worker_id   gender     education age_group english_first_language  \\\n",
       "0          0     male  professional     30-45                      0   \n",
       "1          1     male            hs     18-30                      0   \n",
       "2          2  Unknown       Unknown   Unknown                Unknown   \n",
       "3          3   female     bachelors     18-30                      0   \n",
       "4          4  Unknown       Unknown   Unknown                Unknown   \n",
       "\n",
       "   TotalComments  TotalToxicComments   perc  \n",
       "0            479                  77  16.08  \n",
       "1             45                   5  11.11  \n",
       "2            476                  37   7.77  \n",
       "3            367                  42  11.44  \n",
       "4            475                 135  28.42  "
      ]
     },
     "execution_count": 68,
     "metadata": {},
     "output_type": "execute_result"
    }
   ],
   "source": [
    "## Creating the aggregated datasets for worker annotating distribution.\n",
    "agg_toxic = toxic_df.groupby(['worker_id','gender','education','age_group','english_first_language'], \n",
    "                             as_index=False).agg({'rev_id': 'nunique','toxicity': 'sum'})\n",
    "agg_toxic.rename(columns={'rev_id':'TotalComments','toxicity': 'TotalToxicComments'}, inplace = True)\n",
    "agg_toxic['perc'] = round((agg_toxic['TotalToxicComments']/agg_toxic['TotalComments'])*100,2)\n",
    "agg_toxic.head()"
   ]
  },
  {
   "cell_type": "markdown",
   "metadata": {},
   "source": [
    "### Gender based Annotations Patterns"
   ]
  },
  {
   "cell_type": "code",
   "execution_count": 62,
   "metadata": {},
   "outputs": [
    {
     "data": {
      "text/html": [
       "<div>\n",
       "<style scoped>\n",
       "    .dataframe tbody tr th:only-of-type {\n",
       "        vertical-align: middle;\n",
       "    }\n",
       "\n",
       "    .dataframe tbody tr th {\n",
       "        vertical-align: top;\n",
       "    }\n",
       "\n",
       "    .dataframe thead th {\n",
       "        text-align: right;\n",
       "    }\n",
       "</style>\n",
       "<table border=\"1\" class=\"dataframe\">\n",
       "  <thead>\n",
       "    <tr style=\"text-align: right;\">\n",
       "      <th></th>\n",
       "      <th>gender</th>\n",
       "      <th>TotalComments</th>\n",
       "      <th>TotalToxicComments</th>\n",
       "      <th>perc</th>\n",
       "    </tr>\n",
       "  </thead>\n",
       "  <tbody>\n",
       "    <tr>\n",
       "      <th>0</th>\n",
       "      <td>Unknown</td>\n",
       "      <td>251334</td>\n",
       "      <td>35756</td>\n",
       "      <td>14.23</td>\n",
       "    </tr>\n",
       "    <tr>\n",
       "      <th>1</th>\n",
       "      <td>female</td>\n",
       "      <td>457346</td>\n",
       "      <td>71846</td>\n",
       "      <td>15.71</td>\n",
       "    </tr>\n",
       "    <tr>\n",
       "      <th>2</th>\n",
       "      <td>male</td>\n",
       "      <td>889251</td>\n",
       "      <td>124394</td>\n",
       "      <td>13.99</td>\n",
       "    </tr>\n",
       "    <tr>\n",
       "      <th>3</th>\n",
       "      <td>other</td>\n",
       "      <td>358</td>\n",
       "      <td>59</td>\n",
       "      <td>16.48</td>\n",
       "    </tr>\n",
       "  </tbody>\n",
       "</table>\n",
       "</div>"
      ],
      "text/plain": [
       "    gender  TotalComments  TotalToxicComments   perc\n",
       "0  Unknown         251334               35756  14.23\n",
       "1   female         457346               71846  15.71\n",
       "2     male         889251              124394  13.99\n",
       "3    other            358                  59  16.48"
      ]
     },
     "execution_count": 62,
     "metadata": {},
     "output_type": "execute_result"
    },
    {
     "name": "stdout",
     "output_type": "stream",
     "text": [
      "Preparing the bar plot for Gender based Annotations Patterns\n"
     ]
    },
    {
     "data": {
      "text/plain": [
       "[<matplotlib.lines.Line2D at 0x7fbc0de966d0>]"
      ]
     },
     "execution_count": 62,
     "metadata": {},
     "output_type": "execute_result"
    },
    {
     "data": {
      "text/plain": [
       "Text(0.5, 0, 'Gender')"
      ]
     },
     "execution_count": 62,
     "metadata": {},
     "output_type": "execute_result"
    },
    {
     "data": {
      "text/plain": [
       "Text(0, 0.5, 'Total Comments')"
      ]
     },
     "execution_count": 62,
     "metadata": {},
     "output_type": "execute_result"
    },
    {
     "data": {
      "text/plain": [
       "[<matplotlib.lines.Line2D at 0x7fbc0da8ef10>]"
      ]
     },
     "execution_count": 62,
     "metadata": {},
     "output_type": "execute_result"
    },
    {
     "data": {
      "text/plain": [
       "Text(0, 0.5, '% Toxic Comments')"
      ]
     },
     "execution_count": 62,
     "metadata": {},
     "output_type": "execute_result"
    },
    {
     "data": {
      "image/png": "[encoded data removed]",
      "text/plain": [
       "<Figure size 1440x739.44 with 2 Axes>"
      ]
     },
     "metadata": {},
     "output_type": "display_data"
    }
   ],
   "source": [
    "gender_agg = agg_toxic.groupby(['gender'], as_index=False).agg({'TotalComments':'sum','TotalToxicComments': 'sum'})\n",
    "gender_agg['perc'] = round((gender_agg['TotalToxicComments']/gender_agg['TotalComments'])*100,2)\n",
    "gender_agg\n",
    "\n",
    "## Drawing two line chart for total comment and total toxic comments\n",
    "print(\"Preparing the bar plot for Gender based Annotations Patterns\")\n",
    "# create figure and axis objects with subplots()\n",
    "fig,ax = plt.subplots()\n",
    "ax.plot(gender_agg.gender, gender_agg.TotalComments, color=\"red\", marker=\"o\", label=\"TotalComments\")\n",
    "ax.set_xlabel(\"Gender\",fontsize=14)\n",
    "ax.set_ylabel(\"Total Comments\",color=\"red\",fontsize=14)\n",
    "\n",
    "ax2=ax.twinx()\n",
    "# make a plot with different y-axis using second axis object\n",
    "ax2.plot(gender_agg.gender, gender_agg.perc,color=\"blue\",marker=\"x\", label=\"% Toxic Comments\")\n",
    "ax2.set_ylabel(\"% Toxic Comments\",color=\"blue\",fontsize=14)\n",
    "plt.show()\n",
    "fig.savefig('../results/gender_annot_patterns.png')"
   ]
  },
  {
   "cell_type": "markdown",
   "metadata": {},
   "source": [
    "<b>Observations:</b>\n",
    "<br>From the above anootation distribution, we see that the though females and other gender workers dont have an equal amount of comments to annotate, they are more sensitive towards identifying a comment as toxic. This is a very important observation since due to this we can see that there might be a bias in flagging a comment as toxic or not. This might have an implication in which we miss flagging a comment as toxic because it did not pass around all types of genders."
   ]
  },
  {
   "cell_type": "markdown",
   "metadata": {},
   "source": [
    "### Age Group based Annotations Patterns"
   ]
  },
  {
   "cell_type": "code",
   "execution_count": 66,
   "metadata": {},
   "outputs": [
    {
     "data": {
      "text/html": [
       "<div>\n",
       "<style scoped>\n",
       "    .dataframe tbody tr th:only-of-type {\n",
       "        vertical-align: middle;\n",
       "    }\n",
       "\n",
       "    .dataframe tbody tr th {\n",
       "        vertical-align: top;\n",
       "    }\n",
       "\n",
       "    .dataframe thead th {\n",
       "        text-align: right;\n",
       "    }\n",
       "</style>\n",
       "<table border=\"1\" class=\"dataframe\">\n",
       "  <thead>\n",
       "    <tr style=\"text-align: right;\">\n",
       "      <th></th>\n",
       "      <th>age_group</th>\n",
       "      <th>worker_id</th>\n",
       "      <th>TotalComments</th>\n",
       "      <th>TotalToxicComments</th>\n",
       "      <th>perc</th>\n",
       "    </tr>\n",
       "  </thead>\n",
       "  <tbody>\n",
       "    <tr>\n",
       "      <th>0</th>\n",
       "      <td>18-30</td>\n",
       "      <td>1862</td>\n",
       "      <td>708182</td>\n",
       "      <td>99976</td>\n",
       "      <td>14.12</td>\n",
       "    </tr>\n",
       "    <tr>\n",
       "      <th>1</th>\n",
       "      <td>30-45</td>\n",
       "      <td>1247</td>\n",
       "      <td>468455</td>\n",
       "      <td>69997</td>\n",
       "      <td>14.94</td>\n",
       "    </tr>\n",
       "    <tr>\n",
       "      <th>2</th>\n",
       "      <td>45-60</td>\n",
       "      <td>296</td>\n",
       "      <td>103127</td>\n",
       "      <td>17145</td>\n",
       "      <td>16.63</td>\n",
       "    </tr>\n",
       "    <tr>\n",
       "      <th>3</th>\n",
       "      <td>None</td>\n",
       "      <td>77</td>\n",
       "      <td>29314</td>\n",
       "      <td>4273</td>\n",
       "      <td>14.58</td>\n",
       "    </tr>\n",
       "    <tr>\n",
       "      <th>4</th>\n",
       "      <td>Over 60</td>\n",
       "      <td>30</td>\n",
       "      <td>9717</td>\n",
       "      <td>1525</td>\n",
       "      <td>15.69</td>\n",
       "    </tr>\n",
       "    <tr>\n",
       "      <th>5</th>\n",
       "      <td>Under 18</td>\n",
       "      <td>79</td>\n",
       "      <td>28160</td>\n",
       "      <td>3383</td>\n",
       "      <td>12.01</td>\n",
       "    </tr>\n",
       "    <tr>\n",
       "      <th>6</th>\n",
       "      <td>Unknown</td>\n",
       "      <td>710</td>\n",
       "      <td>251334</td>\n",
       "      <td>35756</td>\n",
       "      <td>14.23</td>\n",
       "    </tr>\n",
       "  </tbody>\n",
       "</table>\n",
       "</div>"
      ],
      "text/plain": [
       "  age_group  worker_id  TotalComments  TotalToxicComments   perc\n",
       "0     18-30       1862         708182               99976  14.12\n",
       "1     30-45       1247         468455               69997  14.94\n",
       "2     45-60        296         103127               17145  16.63\n",
       "3      None         77          29314                4273  14.58\n",
       "4   Over 60         30           9717                1525  15.69\n",
       "5  Under 18         79          28160                3383  12.01\n",
       "6   Unknown        710         251334               35756  14.23"
      ]
     },
     "execution_count": 66,
     "metadata": {},
     "output_type": "execute_result"
    },
    {
     "name": "stdout",
     "output_type": "stream",
     "text": [
      "Preparing the bar plot for age_group based Annotations Patterns\n"
     ]
    },
    {
     "data": {
      "text/plain": [
       "[<matplotlib.lines.Line2D at 0x7fbc0e7011d0>]"
      ]
     },
     "execution_count": 66,
     "metadata": {},
     "output_type": "execute_result"
    },
    {
     "data": {
      "text/plain": [
       "Text(0.5, 0, 'age_group')"
      ]
     },
     "execution_count": 66,
     "metadata": {},
     "output_type": "execute_result"
    },
    {
     "data": {
      "text/plain": [
       "Text(0, 0.5, 'Total Comments')"
      ]
     },
     "execution_count": 66,
     "metadata": {},
     "output_type": "execute_result"
    },
    {
     "data": {
      "text/plain": [
       "[<matplotlib.lines.Line2D at 0x7fbc0e741d10>]"
      ]
     },
     "execution_count": 66,
     "metadata": {},
     "output_type": "execute_result"
    },
    {
     "data": {
      "text/plain": [
       "Text(0, 0.5, '% Toxic Comments')"
      ]
     },
     "execution_count": 66,
     "metadata": {},
     "output_type": "execute_result"
    },
    {
     "data": {
      "image/png": "[encoded data removed]",
      "text/plain": [
       "<Figure size 1440x739.44 with 2 Axes>"
      ]
     },
     "metadata": {},
     "output_type": "display_data"
    }
   ],
   "source": [
    "agegrp_agg = agg_toxic.groupby(['age_group'], as_index=False).agg({'worker_id' : 'count','TotalComments':'sum','TotalToxicComments': 'sum'})\n",
    "agegrp_agg['perc'] = round((agegrp_agg['TotalToxicComments']/agegrp_agg['TotalComments'])*100,2)\n",
    "agegrp_agg\n",
    "\n",
    "## Drawing two line chart for total comment and total toxic comments\n",
    "print(\"Preparing the bar plot for age_group based Annotations Patterns\")\n",
    "# create figure and axis objects with subplots()\n",
    "fig,ax = plt.subplots()\n",
    "ax.plot(agegrp_agg.age_group, agegrp_agg.TotalComments, color=\"red\", marker=\"o\", label=\"TotalComments\")\n",
    "ax.set_xlabel(\"age_group\",fontsize=14)\n",
    "ax.set_ylabel(\"Total Comments\",color=\"red\",fontsize=14)\n",
    "\n",
    "ax2=ax.twinx()\n",
    "# make a plot with different y-axis using second axis object\n",
    "ax2.plot(agegrp_agg.age_group, agegrp_agg.perc,color=\"blue\",marker=\"x\", label=\"% Toxic Comments\")\n",
    "ax2.set_ylabel(\"% Toxic Comments\",color=\"blue\",fontsize=14)\n",
    "plt.show()\n",
    "fig.savefig('../results/age_group_annot_patterns.png')"
   ]
  },
  {
   "cell_type": "markdown",
   "metadata": {},
   "source": [
    "<b>Observations:</b>\n",
    "<br>From the above anootation distribution, we see that the though most comments have been annotated by workers in 18-30 age group, the age group of 45-60 has the highest percentage of flagging a comment as toxic or not. This might be an indication of inherent bias in the dataset since it might be the case that the older adults of age group 45-60 might have better knowledge of certain words or way of speaking which are actually toxic. Since the majority of the workers are around 18-30 therefore we might be missing getting the correct classification for comments"
   ]
  },
  {
   "cell_type": "markdown",
   "metadata": {},
   "source": [
    "### Education based Annotations Patterns"
   ]
  },
  {
   "cell_type": "code",
   "execution_count": 67,
   "metadata": {},
   "outputs": [
    {
     "data": {
      "text/html": [
       "<div>\n",
       "<style scoped>\n",
       "    .dataframe tbody tr th:only-of-type {\n",
       "        vertical-align: middle;\n",
       "    }\n",
       "\n",
       "    .dataframe tbody tr th {\n",
       "        vertical-align: top;\n",
       "    }\n",
       "\n",
       "    .dataframe thead th {\n",
       "        text-align: right;\n",
       "    }\n",
       "</style>\n",
       "<table border=\"1\" class=\"dataframe\">\n",
       "  <thead>\n",
       "    <tr style=\"text-align: right;\">\n",
       "      <th></th>\n",
       "      <th>education</th>\n",
       "      <th>worker_id</th>\n",
       "      <th>TotalComments</th>\n",
       "      <th>TotalToxicComments</th>\n",
       "      <th>perc</th>\n",
       "    </tr>\n",
       "  </thead>\n",
       "  <tbody>\n",
       "    <tr>\n",
       "      <th>0</th>\n",
       "      <td>Unknown</td>\n",
       "      <td>710</td>\n",
       "      <td>251334</td>\n",
       "      <td>35756</td>\n",
       "      <td>14.23</td>\n",
       "    </tr>\n",
       "    <tr>\n",
       "      <th>1</th>\n",
       "      <td>bachelors</td>\n",
       "      <td>1441</td>\n",
       "      <td>540213</td>\n",
       "      <td>80718</td>\n",
       "      <td>14.94</td>\n",
       "    </tr>\n",
       "    <tr>\n",
       "      <th>2</th>\n",
       "      <td>doctorate</td>\n",
       "      <td>41</td>\n",
       "      <td>14583</td>\n",
       "      <td>1908</td>\n",
       "      <td>13.08</td>\n",
       "    </tr>\n",
       "    <tr>\n",
       "      <th>3</th>\n",
       "      <td>hs</td>\n",
       "      <td>1026</td>\n",
       "      <td>381511</td>\n",
       "      <td>54382</td>\n",
       "      <td>14.25</td>\n",
       "    </tr>\n",
       "    <tr>\n",
       "      <th>4</th>\n",
       "      <td>masters</td>\n",
       "      <td>546</td>\n",
       "      <td>205425</td>\n",
       "      <td>30281</td>\n",
       "      <td>14.74</td>\n",
       "    </tr>\n",
       "    <tr>\n",
       "      <th>5</th>\n",
       "      <td>none</td>\n",
       "      <td>3</td>\n",
       "      <td>925</td>\n",
       "      <td>122</td>\n",
       "      <td>13.19</td>\n",
       "    </tr>\n",
       "    <tr>\n",
       "      <th>6</th>\n",
       "      <td>professional</td>\n",
       "      <td>441</td>\n",
       "      <td>168456</td>\n",
       "      <td>24106</td>\n",
       "      <td>14.31</td>\n",
       "    </tr>\n",
       "    <tr>\n",
       "      <th>7</th>\n",
       "      <td>some</td>\n",
       "      <td>93</td>\n",
       "      <td>35842</td>\n",
       "      <td>4782</td>\n",
       "      <td>13.34</td>\n",
       "    </tr>\n",
       "  </tbody>\n",
       "</table>\n",
       "</div>"
      ],
      "text/plain": [
       "      education  worker_id  TotalComments  TotalToxicComments   perc\n",
       "0       Unknown        710         251334               35756  14.23\n",
       "1     bachelors       1441         540213               80718  14.94\n",
       "2     doctorate         41          14583                1908  13.08\n",
       "3            hs       1026         381511               54382  14.25\n",
       "4       masters        546         205425               30281  14.74\n",
       "5          none          3            925                 122  13.19\n",
       "6  professional        441         168456               24106  14.31\n",
       "7          some         93          35842                4782  13.34"
      ]
     },
     "execution_count": 67,
     "metadata": {},
     "output_type": "execute_result"
    },
    {
     "name": "stdout",
     "output_type": "stream",
     "text": [
      "Preparing the bar plot for education based Annotations Patterns\n"
     ]
    },
    {
     "data": {
      "text/plain": [
       "[<matplotlib.lines.Line2D at 0x7fbc0e7d47d0>]"
      ]
     },
     "execution_count": 67,
     "metadata": {},
     "output_type": "execute_result"
    },
    {
     "data": {
      "text/plain": [
       "Text(0.5, 0, 'education')"
      ]
     },
     "execution_count": 67,
     "metadata": {},
     "output_type": "execute_result"
    },
    {
     "data": {
      "text/plain": [
       "Text(0, 0.5, 'Total Comments')"
      ]
     },
     "execution_count": 67,
     "metadata": {},
     "output_type": "execute_result"
    },
    {
     "data": {
      "text/plain": [
       "[<matplotlib.lines.Line2D at 0x7fbc0f200590>]"
      ]
     },
     "execution_count": 67,
     "metadata": {},
     "output_type": "execute_result"
    },
    {
     "data": {
      "text/plain": [
       "Text(0, 0.5, '% Toxic Comments')"
      ]
     },
     "execution_count": 67,
     "metadata": {},
     "output_type": "execute_result"
    },
    {
     "data": {
      "image/png": "[encoded data removed]",
      "text/plain": [
       "<Figure size 1440x739.44 with 2 Axes>"
      ]
     },
     "metadata": {},
     "output_type": "display_data"
    }
   ],
   "source": [
    "edu_agg = agg_toxic.groupby(['education'], as_index=False).agg({'worker_id' : 'count','TotalComments':'sum','TotalToxicComments': 'sum'})\n",
    "edu_agg['perc'] = round((edu_agg['TotalToxicComments']/edu_agg['TotalComments'])*100,2)\n",
    "edu_agg\n",
    "\n",
    "## Drawing two line chart for total comment and total toxic comments\n",
    "print(\"Preparing the bar plot for education based Annotations Patterns\")\n",
    "# create figure and axis objects with subplots()\n",
    "fig,ax = plt.subplots()\n",
    "ax.plot(edu_agg.education, edu_agg.TotalComments, color=\"red\", marker=\"o\", label=\"TotalComments\")\n",
    "ax.set_xlabel(\"education\",fontsize=14)\n",
    "ax.set_ylabel(\"Total Comments\",color=\"red\",fontsize=14)\n",
    "\n",
    "ax2=ax.twinx()\n",
    "# make a plot with different y-axis using second axis object\n",
    "ax2.plot(edu_agg.education, edu_agg.perc,color=\"blue\",marker=\"x\", label=\"% Toxic Comments\")\n",
    "ax2.set_ylabel(\"% Toxic Comments\",color=\"blue\",fontsize=14)\n",
    "plt.show()\n",
    "fig.savefig('../results/education_annot_patterns.png')"
   ]
  },
  {
   "cell_type": "markdown",
   "metadata": {},
   "source": [
    "<b>Observation</b>\n",
    "Since the majority of the worker's population belongs to the bachelor degree holder and high school passout, therefore we see that they have highest total comments annotated. But it is interesting to note that bachleors and master degree holder worker have the highest sensitivity towards identifying a comment as toxic. Fromt the above graph, we can see that doctorates and PhD holder are less likely to term a comment as toxic in comparison to their bachelor degree holding peers. This might induce a bias in our dataset and thus we should aim to have a balanced worker population."
   ]
  },
  {
   "cell_type": "markdown",
   "metadata": {},
   "source": [
    "### Potential implications\n",
    " 1. <u>About Gender Distribution</u>: We see that as workers are predominantly males, they have annotated most of the comments. However, it is interesting to note that female and other gender have the highest senstitivity towards identifying a comment as toxic or not. This might give a bias in our results since it is possible that something that is perceived as non-attacking or non-toxic from a male point of view might be toxic or attacking for other genders. We should aim to have a balanced distribution of all different genders.\n",
    " 2. <u>About Age Group Distribution</u>: We see that workers are predominantly in the age of 18-45,the age group of 45-60 has the highest percentage of flagging a comment as toxic or not. This might be an indication of inherent bias in the dataset since it might be the case that the older adults of age group 45-60 might have better knowledge of certain words or way of speaking which are actually toxic. Since the majority of the workers are around 18-30 therefore we might be missing getting the correct classification for \n",
    " 3. <u>About Education Distribution</u>: We see that workers are predominantly having bachelors or high school passouts but it is interesting to note that the master & bachelors degree holders have highest chances of flagging a comment as toxic. From the above graph, we can see that doctorates and PhD holder are less likely to term a comment as toxic in comparison to their bachelor degree holding peers. This might induce a bias in our dataset and thus we should aim to have a balanced worker population."
   ]
  },
  {
   "cell_type": "markdown",
   "metadata": {},
   "source": [
    " ### Step 2: Discuss further implications"
   ]
  },
  {
   "cell_type": "markdown",
   "metadata": {},
   "source": [
    "### Q1:  Which, if any, of these demo applications would you expect the Perspective API—or any model trained on the Wikipedia Talk corpus—to perform well in? Why? \n",
    "\n",
    "I believe that since the above dataset and machine learning are heavily based on English Wikipedia data, therefore the above machine learning models will perform the best on platform having english languages as their primary source of communication and are similar to Wikipedia platform. I believe that Perspective API's Moderator tool will work very well for moderators seeking to control absuive or toxic language on their forums. Over a broad perspective, I believe that any dataset that has English as it's primary language and whose user demographics are similar to that of Crowflower's worker population, the tool should perform well.\n",
    "\n",
    "### Q2: What are some kinds of hostile speech that would be difficult to accurately detect using the approach used to train the Perspective API models? \n",
    "\n",
    "I believe that since the above dataset is based primarily on English Wikipedia, the model has better chances of identifying toxic/aggresive or abusive words in english language. If the above model was to work on oany other non-english language, it will fail to detect those native words which are abusive in that language but not toxic in english language. Also, the model might fail in interepreting the sarcasm or inherent emotions associated with the comments if the training dataset doesn't contain any such examples. \n",
    "\n",
    "### Q3: What are some potential unintended, negative consequences of using the Perspective API for any of these purposes? In your opinion, are these consequences likely or serious enough that you would recommend that the Perspective API not be used in these applications? Why or why not?\n",
    "\n",
    "I believe that the above model should not be used for tools or platform whose user demographics is in sharp contrast with the crowdflower worker's demographics. For example, if the above tool is deployed to mark or flag toxic or attacking comments for a platform hosted by non-binary gender or other gender population, the model might fail since it has been trained on comments annotated mostly by males"
   ]
  },
  {
   "cell_type": "code",
   "execution_count": null,
   "metadata": {},
   "outputs": [],
   "source": []
  },
  {
   "cell_type": "code",
   "execution_count": null,
   "metadata": {},
   "outputs": [],
   "source": []
  },
  {
   "cell_type": "code",
   "execution_count": null,
   "metadata": {},
   "outputs": [],
   "source": []
  },
  {
   "cell_type": "code",
   "execution_count": null,
   "metadata": {},
   "outputs": [],
   "source": []
  },
  {
   "cell_type": "code",
   "execution_count": null,
   "metadata": {},
   "outputs": [],
   "source": []
  }
 ],
 "metadata": {
  "kernelspec": {
   "display_name": "Python 3",
   "language": "python",
   "name": "python3"
  },
  "language_info": {
   "codemirror_mode": {
    "name": "ipython",
    "version": 3
   },
   "file_extension": ".py",
   "mimetype": "text/x-python",
   "name": "python",
   "nbconvert_exporter": "python",
   "pygments_lexer": "ipython3",
   "version": "3.7.7"
  }
 },
 "nbformat": 4,
 "nbformat_minor": 4
}
